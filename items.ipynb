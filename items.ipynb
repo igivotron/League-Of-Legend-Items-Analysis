{
 "cells": [
  {
   "cell_type": "markdown",
   "metadata": {},
   "source": [
    "# A small League of Legend items analysis\n",
    "\n",
    "Code by Igor Grégoire assisted by copilot"
   ]
  },
  {
   "cell_type": "markdown",
   "metadata": {},
   "source": [
    "### Importing packages"
   ]
  },
  {
   "cell_type": "code",
   "execution_count": 2,
   "metadata": {},
   "outputs": [],
   "source": [
    "import numpy as np\n",
    "import matplotlib.pyplot as plt\n",
    "import seaborn as sns\n",
    "import pandas as pd\n",
    "from sklearn.decomposition import PCA\n",
    "from sklearn.preprocessing import StandardScaler\n",
    "from sklearn.cluster import KMeans, SpectralClustering\n",
    "import plotly.express as px\n",
    "from sklearn.metrics import silhouette_samples, silhouette_score"
   ]
  },
  {
   "cell_type": "markdown",
   "metadata": {},
   "source": [
    "## Preprocessing the dataset"
   ]
  },
  {
   "cell_type": "markdown",
   "metadata": {},
   "source": [
    "| Feature               | Description                                                                                      |\n",
    "|-----------------------|--------------------------------------------------------------------------------------------------|\n",
    "| Item                  | Full name of the item                                                                            |\n",
    "| Cost                  | Cost of the item                                                                                 |\n",
    "| Sell                  | Sell of the item                                                                                 |\n",
    "| AD                    | Attack Damage                                                                                    |\n",
    "| AS                    | Attack Speed                                                                                     |\n",
    "| Crit                  | Chance of critical hit                                                                           |\n",
    "| LS                    | Life steal                                                                                       |\n",
    "| APen                  | Ability Penetration                                                                              |\n",
    "| AP                    | Ability Power                                                                                    |\n",
    "| AH                    | Ability Haste                                                                                    |\n",
    "| Mana                  | Mana                                                                                             |\n",
    "| MP5                   | Mana Regeneration per 5s                                                                         |\n",
    "| HSP                   | Heal/Shield Power                                                                                |\n",
    "| OVamp                 | Omnivamp                                                                                         |\n",
    "| MPen                  | Magic Penetration                                                                                |\n",
    "| Health                | Health                                                                                           |\n",
    "| Armor                 | Armor                                                                                            |\n",
    "| MR                    | Magic Resistance                                                                                 |\n",
    "| HP5                   | Health regeneration per 5s                                                                       |\n",
    "| MS                    | Movement Speed                                                                                   |\n",
    "| Maps                  | Maps where the item is available                                                                 |"
   ]
  },
  {
   "cell_type": "markdown",
   "metadata": {},
   "source": [
    "### Getting the dataset"
   ]
  },
  {
   "cell_type": "code",
   "execution_count": 3,
   "metadata": {},
   "outputs": [
    {
     "data": {
      "text/html": [
       "<div>\n",
       "<style scoped>\n",
       "    .dataframe tbody tr th:only-of-type {\n",
       "        vertical-align: middle;\n",
       "    }\n",
       "\n",
       "    .dataframe tbody tr th {\n",
       "        vertical-align: top;\n",
       "    }\n",
       "\n",
       "    .dataframe thead th {\n",
       "        text-align: right;\n",
       "    }\n",
       "</style>\n",
       "<table border=\"1\" class=\"dataframe\">\n",
       "  <thead>\n",
       "    <tr style=\"text-align: right;\">\n",
       "      <th></th>\n",
       "      <th>Item</th>\n",
       "      <th>Cost</th>\n",
       "      <th>Sell</th>\n",
       "      <th>AD</th>\n",
       "      <th>AS</th>\n",
       "      <th>Crit</th>\n",
       "      <th>LS</th>\n",
       "      <th>APen</th>\n",
       "      <th>AP</th>\n",
       "      <th>AH</th>\n",
       "      <th>...</th>\n",
       "      <th>MP5</th>\n",
       "      <th>HSP</th>\n",
       "      <th>OVamp</th>\n",
       "      <th>MPen</th>\n",
       "      <th>Health</th>\n",
       "      <th>Armor</th>\n",
       "      <th>MR</th>\n",
       "      <th>HP5</th>\n",
       "      <th>MS</th>\n",
       "      <th>Maps</th>\n",
       "    </tr>\n",
       "  </thead>\n",
       "  <tbody>\n",
       "    <tr>\n",
       "      <th>0</th>\n",
       "      <td>Abyssal Mask</td>\n",
       "      <td>2700</td>\n",
       "      <td>1890.0</td>\n",
       "      <td>NaN</td>\n",
       "      <td>NaN</td>\n",
       "      <td>NaN</td>\n",
       "      <td>NaN</td>\n",
       "      <td>NaN</td>\n",
       "      <td>NaN</td>\n",
       "      <td>NaN</td>\n",
       "      <td>...</td>\n",
       "      <td>NaN</td>\n",
       "      <td>NaN</td>\n",
       "      <td>NaN</td>\n",
       "      <td>NaN</td>\n",
       "      <td>400.0</td>\n",
       "      <td>NaN</td>\n",
       "      <td>60.0</td>\n",
       "      <td>NaN</td>\n",
       "      <td>NaN</td>\n",
       "      <td>All</td>\n",
       "    </tr>\n",
       "    <tr>\n",
       "      <th>1</th>\n",
       "      <td>Aegis of the Legion</td>\n",
       "      <td>1500</td>\n",
       "      <td>1050.0</td>\n",
       "      <td>NaN</td>\n",
       "      <td>NaN</td>\n",
       "      <td>NaN</td>\n",
       "      <td>NaN</td>\n",
       "      <td>NaN</td>\n",
       "      <td>NaN</td>\n",
       "      <td>10.0</td>\n",
       "      <td>...</td>\n",
       "      <td>NaN</td>\n",
       "      <td>NaN</td>\n",
       "      <td>NaN</td>\n",
       "      <td>NaN</td>\n",
       "      <td>NaN</td>\n",
       "      <td>30.0</td>\n",
       "      <td>30.0</td>\n",
       "      <td>NaN</td>\n",
       "      <td>NaN</td>\n",
       "      <td>All</td>\n",
       "    </tr>\n",
       "    <tr>\n",
       "      <th>2</th>\n",
       "      <td>Aether Wisp</td>\n",
       "      <td>850</td>\n",
       "      <td>595.0</td>\n",
       "      <td>NaN</td>\n",
       "      <td>NaN</td>\n",
       "      <td>NaN</td>\n",
       "      <td>NaN</td>\n",
       "      <td>NaN</td>\n",
       "      <td>30.0</td>\n",
       "      <td>NaN</td>\n",
       "      <td>...</td>\n",
       "      <td>NaN</td>\n",
       "      <td>NaN</td>\n",
       "      <td>NaN</td>\n",
       "      <td>NaN</td>\n",
       "      <td>NaN</td>\n",
       "      <td>NaN</td>\n",
       "      <td>NaN</td>\n",
       "      <td>NaN</td>\n",
       "      <td>NaN</td>\n",
       "      <td>All</td>\n",
       "    </tr>\n",
       "    <tr>\n",
       "      <th>3</th>\n",
       "      <td>Amplifying Tome</td>\n",
       "      <td>435</td>\n",
       "      <td>304.5</td>\n",
       "      <td>NaN</td>\n",
       "      <td>NaN</td>\n",
       "      <td>NaN</td>\n",
       "      <td>NaN</td>\n",
       "      <td>NaN</td>\n",
       "      <td>20.0</td>\n",
       "      <td>NaN</td>\n",
       "      <td>...</td>\n",
       "      <td>NaN</td>\n",
       "      <td>NaN</td>\n",
       "      <td>NaN</td>\n",
       "      <td>NaN</td>\n",
       "      <td>NaN</td>\n",
       "      <td>NaN</td>\n",
       "      <td>NaN</td>\n",
       "      <td>NaN</td>\n",
       "      <td>NaN</td>\n",
       "      <td>All</td>\n",
       "    </tr>\n",
       "    <tr>\n",
       "      <th>4</th>\n",
       "      <td>Archangel's Staff</td>\n",
       "      <td>3000</td>\n",
       "      <td>2100.0</td>\n",
       "      <td>NaN</td>\n",
       "      <td>NaN</td>\n",
       "      <td>NaN</td>\n",
       "      <td>NaN</td>\n",
       "      <td>NaN</td>\n",
       "      <td>65.0</td>\n",
       "      <td>NaN</td>\n",
       "      <td>...</td>\n",
       "      <td>NaN</td>\n",
       "      <td>NaN</td>\n",
       "      <td>NaN</td>\n",
       "      <td>NaN</td>\n",
       "      <td>NaN</td>\n",
       "      <td>NaN</td>\n",
       "      <td>NaN</td>\n",
       "      <td>NaN</td>\n",
       "      <td>NaN</td>\n",
       "      <td>All</td>\n",
       "    </tr>\n",
       "  </tbody>\n",
       "</table>\n",
       "<p>5 rows × 21 columns</p>\n",
       "</div>"
      ],
      "text/plain": [
       "                  Item  Cost    Sell  AD  AS  Crit  LS  APen    AP    AH  ...  \\\n",
       "0         Abyssal Mask  2700  1890.0 NaN NaN   NaN NaN   NaN   NaN   NaN  ...   \n",
       "1  Aegis of the Legion  1500  1050.0 NaN NaN   NaN NaN   NaN   NaN  10.0  ...   \n",
       "2          Aether Wisp   850   595.0 NaN NaN   NaN NaN   NaN  30.0   NaN  ...   \n",
       "3      Amplifying Tome   435   304.5 NaN NaN   NaN NaN   NaN  20.0   NaN  ...   \n",
       "4    Archangel's Staff  3000  2100.0 NaN NaN   NaN NaN   NaN  65.0   NaN  ...   \n",
       "\n",
       "   MP5  HSP  OVamp  MPen  Health  Armor    MR  HP5  MS  Maps  \n",
       "0  NaN  NaN    NaN   NaN   400.0    NaN  60.0  NaN NaN   All  \n",
       "1  NaN  NaN    NaN   NaN     NaN   30.0  30.0  NaN NaN   All  \n",
       "2  NaN  NaN    NaN   NaN     NaN    NaN   NaN  NaN NaN   All  \n",
       "3  NaN  NaN    NaN   NaN     NaN    NaN   NaN  NaN NaN   All  \n",
       "4  NaN  NaN    NaN   NaN     NaN    NaN   NaN  NaN NaN   All  \n",
       "\n",
       "[5 rows x 21 columns]"
      ]
     },
     "execution_count": 3,
     "metadata": {},
     "output_type": "execute_result"
    }
   ],
   "source": [
    "df = pd.read_csv('LOL_items_stats.csv', sep=';')\n",
    "df.head()"
   ]
  },
  {
   "cell_type": "markdown",
   "metadata": {},
   "source": [
    "### Dataset curation"
   ]
  },
  {
   "cell_type": "code",
   "execution_count": 4,
   "metadata": {},
   "outputs": [],
   "source": [
    "columns_to_keep = [\"Cost\", \n",
    "                   \"Sell\", \n",
    "                   \"AD\", \n",
    "                   \"AS\", \n",
    "                   \"Crit\", \n",
    "                   \"LS\", \n",
    "                   \"APen\", \n",
    "                   \"AP\", \n",
    "                   \"AH\", \n",
    "                   \"Mana\", \n",
    "                   \"MP5\", \n",
    "                   \"HSP\", \n",
    "                   \"OVamp\", \n",
    "                   \"MPen\", \n",
    "                   \"Health\", \n",
    "                   \"Armor\",\n",
    "                   \"MR\",\n",
    "                   \"HP5\",\n",
    "                   \"MS\"]\n",
    "\n",
    "# List of items names\n",
    "names = df[\"Item\"]\n",
    "df_keep = df[columns_to_keep]\n"
   ]
  },
  {
   "cell_type": "markdown",
   "metadata": {},
   "source": [
    "### Removing the NaN values"
   ]
  },
  {
   "cell_type": "code",
   "execution_count": 5,
   "metadata": {},
   "outputs": [],
   "source": [
    "# Replace NaN values with 0\n",
    "pd.options.mode.chained_assignment = None\n",
    "df_keep.fillna(0, inplace=True)"
   ]
  },
  {
   "cell_type": "markdown",
   "metadata": {},
   "source": [
    "### Scaling the dataset"
   ]
  },
  {
   "cell_type": "code",
   "execution_count": 6,
   "metadata": {},
   "outputs": [],
   "source": [
    "def scale_data(data):\n",
    "    scaler = StandardScaler()\n",
    "    return scaler.fit_transform(data)\n",
    "\n",
    "X = scale_data(df_keep)"
   ]
  },
  {
   "cell_type": "markdown",
   "metadata": {},
   "source": [
    "## Clustering"
   ]
  },
  {
   "cell_type": "markdown",
   "metadata": {},
   "source": [
    "### Fitting the model"
   ]
  },
  {
   "cell_type": "code",
   "execution_count": 7,
   "metadata": {},
   "outputs": [],
   "source": [
    "def kmeans_clustering(data, n_clusters):\n",
    "    kmeans = KMeans(n_clusters=n_clusters, random_state=69)\n",
    "    kmeans.fit(data)\n",
    "    return kmeans.labels_\n",
    "\n",
    "def spectral_clustering(data, n_clusters):\n",
    "    spectral_clustering = SpectralClustering(n_clusters=n_clusters, random_state=69)\n",
    "    spectral_clustering.fit(data)\n",
    "    return spectral_clustering.labels_"
   ]
  },
  {
   "cell_type": "markdown",
   "metadata": {},
   "source": [
    "### Chosing the number of cluster"
   ]
  },
  {
   "cell_type": "code",
   "execution_count": 8,
   "metadata": {},
   "outputs": [
    {
     "data": {
      "application/vnd.plotly.v1+json": {
       "config": {
        "plotlyServerURL": "https://plot.ly"
       },
       "data": [
        {
         "hovertemplate": "x=%{x}<br>y=%{y}<extra></extra>",
         "legendgroup": "",
         "line": {
          "color": "#636efa",
          "dash": "solid"
         },
         "marker": {
          "symbol": "circle"
         },
         "mode": "lines",
         "name": "",
         "orientation": "v",
         "showlegend": false,
         "type": "scatter",
         "x": [
          2,
          3,
          4,
          5,
          6,
          7,
          8,
          9,
          10,
          11,
          12,
          13,
          14,
          15,
          16,
          17,
          18,
          19,
          20,
          21,
          22,
          23,
          24,
          25,
          26,
          27,
          28,
          29,
          30,
          31,
          32,
          33,
          34,
          35,
          36,
          37,
          38,
          39,
          40,
          41,
          42,
          43,
          44,
          45,
          46,
          47,
          48,
          49,
          50,
          51,
          52,
          53,
          54,
          55,
          56,
          57,
          58,
          59,
          60,
          61,
          62,
          63,
          64,
          65,
          66,
          67,
          68,
          69,
          70,
          71,
          72,
          73,
          74,
          75,
          76,
          77,
          78,
          79,
          80,
          81,
          82,
          83,
          84,
          85,
          86,
          87,
          88,
          89,
          90,
          91,
          92,
          93,
          94,
          95,
          96,
          97,
          98,
          99,
          100
         ],
         "xaxis": "x",
         "y": [
          0.18550980019116903,
          0.21970925205459554,
          0.23616621248039343,
          0.2592733289929626,
          0.2627558522782508,
          0.27522307294058074,
          0.28862734290087483,
          0.3054072717603325,
          0.311468173241939,
          0.3375703588769883,
          0.348400041814915,
          0.3503318038226689,
          0.36243779586288716,
          0.3257046877189306,
          0.3240486877688662,
          0.27982073806957386,
          0.28611411486119065,
          0.2815199603893439,
          0.2831292930734859,
          0.27282262138439295,
          0.2783779979207956,
          0.28560258571432645,
          0.2904195438240126,
          0.2901887417781234,
          0.29545861557466235,
          0.3007408477193388,
          0.3131539711715353,
          0.32534640848644014,
          0.3372930766388818,
          0.32888723061777775,
          0.33470509487698996,
          0.3301468953366507,
          0.329323017042212,
          0.33036310354072984,
          0.33938977719404584,
          0.3416803163596307,
          0.3463468558164773,
          0.3502868791893878,
          0.3542126338045135,
          0.35807437914253976,
          0.3532257181643117,
          0.3552600236276981,
          0.3538018661886372,
          0.3557161148619034,
          0.35726882838513546,
          0.3624446419343092,
          0.3665207896241683,
          0.3666552247422787,
          0.36531587233133356,
          0.3550503537723002,
          0.36015646307011356,
          0.3561191247295496,
          0.3642797109762608,
          0.36431445606518664,
          0.37031630662890425,
          0.35779462409561247,
          0.35747516570294224,
          0.35765700675580797,
          0.35940383186490904,
          0.36162292151004616,
          0.3602641044911056,
          0.36969013543078627,
          0.36565279709022225,
          0.36638419267001887,
          0.36238236500608556,
          0.35715020184002955,
          0.3559652756668037,
          0.3564118478511319,
          0.3594384471999792,
          0.353905808734259,
          0.3538191290128337,
          0.35609460943420956,
          0.34976447913433234,
          0.35129374974275773,
          0.34782595276749295,
          0.3548364900257746,
          0.3576099943779937,
          0.3605135193355945,
          0.3536081055966411,
          0.3524942415091595,
          0.3486671551487851,
          0.3482923970134792,
          0.3483656583373292,
          0.35026011631529314,
          0.35165697655757083,
          0.3548185605702179,
          0.35691714008785314,
          0.3542984524553498,
          0.35136078647694186,
          0.3507617609886176,
          0.3482229768578211,
          0.34578984674275137,
          0.33985413241920936,
          0.33272391453874844,
          0.3381411730530157,
          0.33830119438759293,
          0.3321724131060155,
          0.331674550263959,
          0.3325192131193848
         ],
         "yaxis": "y"
        }
       ],
       "layout": {
        "legend": {
         "tracegroupgap": 0
        },
        "template": {
         "data": {
          "bar": [
           {
            "error_x": {
             "color": "#2a3f5f"
            },
            "error_y": {
             "color": "#2a3f5f"
            },
            "marker": {
             "line": {
              "color": "#E5ECF6",
              "width": 0.5
             },
             "pattern": {
              "fillmode": "overlay",
              "size": 10,
              "solidity": 0.2
             }
            },
            "type": "bar"
           }
          ],
          "barpolar": [
           {
            "marker": {
             "line": {
              "color": "#E5ECF6",
              "width": 0.5
             },
             "pattern": {
              "fillmode": "overlay",
              "size": 10,
              "solidity": 0.2
             }
            },
            "type": "barpolar"
           }
          ],
          "carpet": [
           {
            "aaxis": {
             "endlinecolor": "#2a3f5f",
             "gridcolor": "white",
             "linecolor": "white",
             "minorgridcolor": "white",
             "startlinecolor": "#2a3f5f"
            },
            "baxis": {
             "endlinecolor": "#2a3f5f",
             "gridcolor": "white",
             "linecolor": "white",
             "minorgridcolor": "white",
             "startlinecolor": "#2a3f5f"
            },
            "type": "carpet"
           }
          ],
          "choropleth": [
           {
            "colorbar": {
             "outlinewidth": 0,
             "ticks": ""
            },
            "type": "choropleth"
           }
          ],
          "contour": [
           {
            "colorbar": {
             "outlinewidth": 0,
             "ticks": ""
            },
            "colorscale": [
             [
              0,
              "#0d0887"
             ],
             [
              0.1111111111111111,
              "#46039f"
             ],
             [
              0.2222222222222222,
              "#7201a8"
             ],
             [
              0.3333333333333333,
              "#9c179e"
             ],
             [
              0.4444444444444444,
              "#bd3786"
             ],
             [
              0.5555555555555556,
              "#d8576b"
             ],
             [
              0.6666666666666666,
              "#ed7953"
             ],
             [
              0.7777777777777778,
              "#fb9f3a"
             ],
             [
              0.8888888888888888,
              "#fdca26"
             ],
             [
              1,
              "#f0f921"
             ]
            ],
            "type": "contour"
           }
          ],
          "contourcarpet": [
           {
            "colorbar": {
             "outlinewidth": 0,
             "ticks": ""
            },
            "type": "contourcarpet"
           }
          ],
          "heatmap": [
           {
            "colorbar": {
             "outlinewidth": 0,
             "ticks": ""
            },
            "colorscale": [
             [
              0,
              "#0d0887"
             ],
             [
              0.1111111111111111,
              "#46039f"
             ],
             [
              0.2222222222222222,
              "#7201a8"
             ],
             [
              0.3333333333333333,
              "#9c179e"
             ],
             [
              0.4444444444444444,
              "#bd3786"
             ],
             [
              0.5555555555555556,
              "#d8576b"
             ],
             [
              0.6666666666666666,
              "#ed7953"
             ],
             [
              0.7777777777777778,
              "#fb9f3a"
             ],
             [
              0.8888888888888888,
              "#fdca26"
             ],
             [
              1,
              "#f0f921"
             ]
            ],
            "type": "heatmap"
           }
          ],
          "heatmapgl": [
           {
            "colorbar": {
             "outlinewidth": 0,
             "ticks": ""
            },
            "colorscale": [
             [
              0,
              "#0d0887"
             ],
             [
              0.1111111111111111,
              "#46039f"
             ],
             [
              0.2222222222222222,
              "#7201a8"
             ],
             [
              0.3333333333333333,
              "#9c179e"
             ],
             [
              0.4444444444444444,
              "#bd3786"
             ],
             [
              0.5555555555555556,
              "#d8576b"
             ],
             [
              0.6666666666666666,
              "#ed7953"
             ],
             [
              0.7777777777777778,
              "#fb9f3a"
             ],
             [
              0.8888888888888888,
              "#fdca26"
             ],
             [
              1,
              "#f0f921"
             ]
            ],
            "type": "heatmapgl"
           }
          ],
          "histogram": [
           {
            "marker": {
             "pattern": {
              "fillmode": "overlay",
              "size": 10,
              "solidity": 0.2
             }
            },
            "type": "histogram"
           }
          ],
          "histogram2d": [
           {
            "colorbar": {
             "outlinewidth": 0,
             "ticks": ""
            },
            "colorscale": [
             [
              0,
              "#0d0887"
             ],
             [
              0.1111111111111111,
              "#46039f"
             ],
             [
              0.2222222222222222,
              "#7201a8"
             ],
             [
              0.3333333333333333,
              "#9c179e"
             ],
             [
              0.4444444444444444,
              "#bd3786"
             ],
             [
              0.5555555555555556,
              "#d8576b"
             ],
             [
              0.6666666666666666,
              "#ed7953"
             ],
             [
              0.7777777777777778,
              "#fb9f3a"
             ],
             [
              0.8888888888888888,
              "#fdca26"
             ],
             [
              1,
              "#f0f921"
             ]
            ],
            "type": "histogram2d"
           }
          ],
          "histogram2dcontour": [
           {
            "colorbar": {
             "outlinewidth": 0,
             "ticks": ""
            },
            "colorscale": [
             [
              0,
              "#0d0887"
             ],
             [
              0.1111111111111111,
              "#46039f"
             ],
             [
              0.2222222222222222,
              "#7201a8"
             ],
             [
              0.3333333333333333,
              "#9c179e"
             ],
             [
              0.4444444444444444,
              "#bd3786"
             ],
             [
              0.5555555555555556,
              "#d8576b"
             ],
             [
              0.6666666666666666,
              "#ed7953"
             ],
             [
              0.7777777777777778,
              "#fb9f3a"
             ],
             [
              0.8888888888888888,
              "#fdca26"
             ],
             [
              1,
              "#f0f921"
             ]
            ],
            "type": "histogram2dcontour"
           }
          ],
          "mesh3d": [
           {
            "colorbar": {
             "outlinewidth": 0,
             "ticks": ""
            },
            "type": "mesh3d"
           }
          ],
          "parcoords": [
           {
            "line": {
             "colorbar": {
              "outlinewidth": 0,
              "ticks": ""
             }
            },
            "type": "parcoords"
           }
          ],
          "pie": [
           {
            "automargin": true,
            "type": "pie"
           }
          ],
          "scatter": [
           {
            "fillpattern": {
             "fillmode": "overlay",
             "size": 10,
             "solidity": 0.2
            },
            "type": "scatter"
           }
          ],
          "scatter3d": [
           {
            "line": {
             "colorbar": {
              "outlinewidth": 0,
              "ticks": ""
             }
            },
            "marker": {
             "colorbar": {
              "outlinewidth": 0,
              "ticks": ""
             }
            },
            "type": "scatter3d"
           }
          ],
          "scattercarpet": [
           {
            "marker": {
             "colorbar": {
              "outlinewidth": 0,
              "ticks": ""
             }
            },
            "type": "scattercarpet"
           }
          ],
          "scattergeo": [
           {
            "marker": {
             "colorbar": {
              "outlinewidth": 0,
              "ticks": ""
             }
            },
            "type": "scattergeo"
           }
          ],
          "scattergl": [
           {
            "marker": {
             "colorbar": {
              "outlinewidth": 0,
              "ticks": ""
             }
            },
            "type": "scattergl"
           }
          ],
          "scattermapbox": [
           {
            "marker": {
             "colorbar": {
              "outlinewidth": 0,
              "ticks": ""
             }
            },
            "type": "scattermapbox"
           }
          ],
          "scatterpolar": [
           {
            "marker": {
             "colorbar": {
              "outlinewidth": 0,
              "ticks": ""
             }
            },
            "type": "scatterpolar"
           }
          ],
          "scatterpolargl": [
           {
            "marker": {
             "colorbar": {
              "outlinewidth": 0,
              "ticks": ""
             }
            },
            "type": "scatterpolargl"
           }
          ],
          "scatterternary": [
           {
            "marker": {
             "colorbar": {
              "outlinewidth": 0,
              "ticks": ""
             }
            },
            "type": "scatterternary"
           }
          ],
          "surface": [
           {
            "colorbar": {
             "outlinewidth": 0,
             "ticks": ""
            },
            "colorscale": [
             [
              0,
              "#0d0887"
             ],
             [
              0.1111111111111111,
              "#46039f"
             ],
             [
              0.2222222222222222,
              "#7201a8"
             ],
             [
              0.3333333333333333,
              "#9c179e"
             ],
             [
              0.4444444444444444,
              "#bd3786"
             ],
             [
              0.5555555555555556,
              "#d8576b"
             ],
             [
              0.6666666666666666,
              "#ed7953"
             ],
             [
              0.7777777777777778,
              "#fb9f3a"
             ],
             [
              0.8888888888888888,
              "#fdca26"
             ],
             [
              1,
              "#f0f921"
             ]
            ],
            "type": "surface"
           }
          ],
          "table": [
           {
            "cells": {
             "fill": {
              "color": "#EBF0F8"
             },
             "line": {
              "color": "white"
             }
            },
            "header": {
             "fill": {
              "color": "#C8D4E3"
             },
             "line": {
              "color": "white"
             }
            },
            "type": "table"
           }
          ]
         },
         "layout": {
          "annotationdefaults": {
           "arrowcolor": "#2a3f5f",
           "arrowhead": 0,
           "arrowwidth": 1
          },
          "autotypenumbers": "strict",
          "coloraxis": {
           "colorbar": {
            "outlinewidth": 0,
            "ticks": ""
           }
          },
          "colorscale": {
           "diverging": [
            [
             0,
             "#8e0152"
            ],
            [
             0.1,
             "#c51b7d"
            ],
            [
             0.2,
             "#de77ae"
            ],
            [
             0.3,
             "#f1b6da"
            ],
            [
             0.4,
             "#fde0ef"
            ],
            [
             0.5,
             "#f7f7f7"
            ],
            [
             0.6,
             "#e6f5d0"
            ],
            [
             0.7,
             "#b8e186"
            ],
            [
             0.8,
             "#7fbc41"
            ],
            [
             0.9,
             "#4d9221"
            ],
            [
             1,
             "#276419"
            ]
           ],
           "sequential": [
            [
             0,
             "#0d0887"
            ],
            [
             0.1111111111111111,
             "#46039f"
            ],
            [
             0.2222222222222222,
             "#7201a8"
            ],
            [
             0.3333333333333333,
             "#9c179e"
            ],
            [
             0.4444444444444444,
             "#bd3786"
            ],
            [
             0.5555555555555556,
             "#d8576b"
            ],
            [
             0.6666666666666666,
             "#ed7953"
            ],
            [
             0.7777777777777778,
             "#fb9f3a"
            ],
            [
             0.8888888888888888,
             "#fdca26"
            ],
            [
             1,
             "#f0f921"
            ]
           ],
           "sequentialminus": [
            [
             0,
             "#0d0887"
            ],
            [
             0.1111111111111111,
             "#46039f"
            ],
            [
             0.2222222222222222,
             "#7201a8"
            ],
            [
             0.3333333333333333,
             "#9c179e"
            ],
            [
             0.4444444444444444,
             "#bd3786"
            ],
            [
             0.5555555555555556,
             "#d8576b"
            ],
            [
             0.6666666666666666,
             "#ed7953"
            ],
            [
             0.7777777777777778,
             "#fb9f3a"
            ],
            [
             0.8888888888888888,
             "#fdca26"
            ],
            [
             1,
             "#f0f921"
            ]
           ]
          },
          "colorway": [
           "#636efa",
           "#EF553B",
           "#00cc96",
           "#ab63fa",
           "#FFA15A",
           "#19d3f3",
           "#FF6692",
           "#B6E880",
           "#FF97FF",
           "#FECB52"
          ],
          "font": {
           "color": "#2a3f5f"
          },
          "geo": {
           "bgcolor": "white",
           "lakecolor": "white",
           "landcolor": "#E5ECF6",
           "showlakes": true,
           "showland": true,
           "subunitcolor": "white"
          },
          "hoverlabel": {
           "align": "left"
          },
          "hovermode": "closest",
          "mapbox": {
           "style": "light"
          },
          "paper_bgcolor": "white",
          "plot_bgcolor": "#E5ECF6",
          "polar": {
           "angularaxis": {
            "gridcolor": "white",
            "linecolor": "white",
            "ticks": ""
           },
           "bgcolor": "#E5ECF6",
           "radialaxis": {
            "gridcolor": "white",
            "linecolor": "white",
            "ticks": ""
           }
          },
          "scene": {
           "xaxis": {
            "backgroundcolor": "#E5ECF6",
            "gridcolor": "white",
            "gridwidth": 2,
            "linecolor": "white",
            "showbackground": true,
            "ticks": "",
            "zerolinecolor": "white"
           },
           "yaxis": {
            "backgroundcolor": "#E5ECF6",
            "gridcolor": "white",
            "gridwidth": 2,
            "linecolor": "white",
            "showbackground": true,
            "ticks": "",
            "zerolinecolor": "white"
           },
           "zaxis": {
            "backgroundcolor": "#E5ECF6",
            "gridcolor": "white",
            "gridwidth": 2,
            "linecolor": "white",
            "showbackground": true,
            "ticks": "",
            "zerolinecolor": "white"
           }
          },
          "shapedefaults": {
           "line": {
            "color": "#2a3f5f"
           }
          },
          "ternary": {
           "aaxis": {
            "gridcolor": "white",
            "linecolor": "white",
            "ticks": ""
           },
           "baxis": {
            "gridcolor": "white",
            "linecolor": "white",
            "ticks": ""
           },
           "bgcolor": "#E5ECF6",
           "caxis": {
            "gridcolor": "white",
            "linecolor": "white",
            "ticks": ""
           }
          },
          "title": {
           "x": 0.05
          },
          "xaxis": {
           "automargin": true,
           "gridcolor": "white",
           "linecolor": "white",
           "ticks": "",
           "title": {
            "standoff": 15
           },
           "zerolinecolor": "white",
           "zerolinewidth": 2
          },
          "yaxis": {
           "automargin": true,
           "gridcolor": "white",
           "linecolor": "white",
           "ticks": "",
           "title": {
            "standoff": 15
           },
           "zerolinecolor": "white",
           "zerolinewidth": 2
          }
         }
        },
        "title": {
         "text": "Silhouette score for different number of clusters"
        },
        "xaxis": {
         "anchor": "y",
         "domain": [
          0,
          1
         ],
         "title": {
          "text": "x"
         }
        },
        "yaxis": {
         "anchor": "x",
         "domain": [
          0,
          1
         ],
         "title": {
          "text": "y"
         }
        }
       }
      }
     },
     "metadata": {},
     "output_type": "display_data"
    }
   ],
   "source": [
    "# Not really useful...\n",
    "def find_best_n_clusters(data, max_clusters):\n",
    "    silhouette_scores = []\n",
    "    for n_clusters in range(2, max_clusters+1):\n",
    "        z = kmeans_clustering(data, n_clusters)\n",
    "        silhouette_avg = silhouette_score(data, z)\n",
    "        silhouette_scores.append(silhouette_avg)\n",
    "    return silhouette_scores\n",
    "\n",
    "silhouette_scores = find_best_n_clusters(X, 100)\n",
    "px.line(x=range(2, 101), y=silhouette_scores, title=\"Silhouette score for different number of clusters\")\n"
   ]
  },
  {
   "cell_type": "markdown",
   "metadata": {},
   "source": [
    "### Fixing the clustering"
   ]
  },
  {
   "cell_type": "code",
   "execution_count": 9,
   "metadata": {},
   "outputs": [],
   "source": [
    "n_clusters = 55\n",
    "y = kmeans_clustering(X, n_clusters=n_clusters)\n",
    "#y = spectral_clustering(X, n_clusters=n_clusters)"
   ]
  },
  {
   "cell_type": "markdown",
   "metadata": {},
   "source": [
    "## Visualization"
   ]
  },
  {
   "cell_type": "code",
   "execution_count": 10,
   "metadata": {},
   "outputs": [],
   "source": [
    "def normalize_data(data):\n",
    "    return (data - data.min()) / (data.max() - data.min())"
   ]
  },
  {
   "cell_type": "markdown",
   "metadata": {},
   "source": [
    "### 2D PCA"
   ]
  },
  {
   "cell_type": "code",
   "execution_count": 11,
   "metadata": {},
   "outputs": [],
   "source": [
    "pca2 = PCA(n_components=2)\n",
    "X_pca2 = pca2.fit_transform(X)\n",
    "\n",
    "X_pca2 = pd.DataFrame(X_pca2, columns=[\"PC1\", \"PC2\"])\n",
    "\n",
    "# Normalize the data\n",
    "X_pca2[\"PC1\"] = normalize_data(X_pca2[\"PC1\"])\n",
    "X_pca2[\"PC2\"] = normalize_data(X_pca2[\"PC2\"])"
   ]
  },
  {
   "cell_type": "code",
   "execution_count": 12,
   "metadata": {},
   "outputs": [
    {
     "data": {
      "application/vnd.plotly.v1+json": {
       "config": {
        "plotlyServerURL": "https://plot.ly"
       },
       "data": [
        {
         "hovertemplate": "<b>%{hovertext}</b><br><br>PC1=%{x}<br>PC2=%{y}<br>color=%{marker.color}<extra></extra>",
         "hovertext": [
          "Abyssal Mask",
          "Aegis of the Legion",
          "Aether Wisp",
          "Amplifying Tome",
          "Archangel's Staff",
          "Ardent Censer",
          "B. F. Sword",
          "Bami's Cinder",
          "Bandleglass Mirror",
          "Banshee's Veil",
          "Berserker's Greaves",
          "Black Cleaver",
          "Black Mist Scythe",
          "Blade of the Ruined King",
          "Blasting Wand",
          "Blighting Jewel",
          "Bloodthirster",
          "Bloodward",
          "Boots",
          "Boots of Swiftness",
          "Bramble Vest",
          "Bulwark of the Mountain",
          "Caulfield's Warhammer",
          "Ceaseless Hunger",
          "Chain Vest",
          "Chempunk Chainsword",
          "Chemtech Putrifier",
          "Cloak of Agility",
          "Cloth Armor",
          "Cosmic Drive",
          "Crystalline Bracer",
          "Cull",
          "Dagger",
          "Dark Seal",
          "Dead Man's Plate",
          "Death's Dance",
          "Deicide",
          "Demonic Embrace",
          "Divine Sunderer",
          "Doran's Blade",
          "Doran's Ring",
          "Doran's Shield",
          "Draktharr's Shadowcarver",
          "Dreamshatter",
          "Duskblade of Draktharr",
          "Eclipse",
          "Edge of Night",
          "Essence Reaver",
          "Eternal Winter",
          "Everfrost",
          "Executioner's Calling",
          "Eye of Luden",
          "Faerie Charm",
          "Fiendish Codex",
          "Forbidden Idol",
          "Force of Nature",
          "Forgefire Crest",
          "Frostfang",
          "Frostfire Gauntlet",
          "Frozen Heart",
          "Galeforce",
          "Gargoyle Stoneplate",
          "Giant's Belt",
          "Glacial Buckler",
          "Goredrinker",
          "Guardian Angel",
          "Guardian's Blade",
          "Guardian's Hammer",
          "Guardian's Horn",
          "Guardian's Orb",
          "Guinsoo's Rageblade",
          "Harrowing Crescent",
          "Hearthbound Axe",
          "Hexdrinker",
          "Hextech Alternator",
          "Hextech Rocketbelt",
          "Horizon Focus",
          "Icathia's Curse",
          "Immortal Shieldbow",
          "Imperial Mandate",
          "Infinity Edge",
          "Infinity Force",
          "Ionian Boots of Lucidity",
          "Ironspike Whip",
          "Kindlegem",
          "Kircheis Shard",
          "Knight's Vow",
          "Kraken Slayer",
          "Last Whisper",
          "Leeching Leer",
          "Liandry's Anguish",
          "Liandry's Lament",
          "Lich Bane",
          "Locket of the Iron Solari",
          "Long Sword",
          "Lord Dominik's Regards",
          "Lost Chapter",
          "Luden's Tempest",
          "Manamune",
          "Maw of Malmortius",
          "Mejai's Soulstealer",
          "Mercurial Scimitar",
          "Mercury's Treads",
          "Mikael's Blessing",
          "Moonstone Renewer",
          "Morellonomicon",
          "Mortal Reminder",
          "Muramana",
          "Nashor's Tooth",
          "Navori Quickblades",
          "Needlessly Large Rod",
          "Negatron Cloak",
          "Night Harvester",
          "Noonquiver",
          "Null-Magic Mantle",
          "Oblivion Orb",
          "Pauldrons of Whiterock",
          "Phage",
          "Phantom Dancer",
          "Pickaxe",
          "Plated Steelcaps",
          "Prowler's Claw",
          "Quicksilver Sash",
          "Rabadon's Deathcap",
          "Rageknife",
          "Randuin's Omen",
          "Rapid Firecannon",
          "Ravenous Hydra",
          "Recurve Bow",
          "Redemption",
          "Rejuvenation Bead",
          "Relic Shield",
          "Reliquary of the Golden Dawn",
          "Riftmaker",
          "Rimeforged Grasp",
          "Ruby Crystal",
          "Runaan's Hurricane",
          "Runesteel Spaulders",
          "Rylai's Crystal Scepter",
          "Sandshrike's Claw",
          "Sanguine Blade",
          "Sapphire Crystal",
          "Seat of Command",
          "Seeker's Armguard",
          "Seraph's Embrace",
          "Serpent's Fang",
          "Serrated Dirk",
          "Serylda's Grudge",
          "Shard of True Ice",
          "Shurelya's Battlesong",
          "Shurelya's Requiem",
          "Silvermere Dawn",
          "Sorcerer's Shoes",
          "Spectral Sickle",
          "Spectre's Cowl",
          "Spellthief's Edge",
          "Spirit Visage",
          "Staff of Flowing Water",
          "Starcaster",
          "Steel Shoulderguards",
          "Sterak's Gage",
          "Stormrazor",
          "Stridebreaker",
          "Sunfire Aegis",
          "Syzygy",
          "Targon's Buckler",
          "Tear of the Goddess",
          "The Collector",
          "Thornmail",
          "Tiamat",
          "Titanic Hydra",
          "Trinity Force",
          "Turbo Chemtank",
          "Turbocharged Hexperiment",
          "Typhoon",
          "Umbral Glaive",
          "Upgraded Aeropack",
          "Vampiric Scepter",
          "Verdant Barrier",
          "Vespertide",
          "Vigilant Wardstone",
          "Void Staff",
          "Warden's Mail",
          "Warmog's Armor",
          "Watchful Wardstone",
          "Winged Moonplate",
          "Wit's End",
          "Wyrmfallen Sacrifice",
          "Youmuu's Ghostblade",
          "Zeal",
          "Zeke's Convergence",
          "Zhonya's Hourglass",
          "Anathema's Chains",
          "Hullbreaker"
         ],
         "legendgroup": "",
         "marker": {
          "color": [
           1,
           29,
           8,
           8,
           50,
           13,
           32,
           8,
           0,
           51,
           53,
           34,
           0,
           21,
           8,
           8,
           9,
           21,
           8,
           6,
           42,
           8,
           32,
           26,
           42,
           34,
           15,
           8,
           42,
           22,
           8,
           8,
           36,
           8,
           52,
           38,
           34,
           44,
           34,
           8,
           8,
           8,
           2,
           14,
           2,
           7,
           49,
           46,
           4,
           4,
           8,
           27,
           0,
           8,
           0,
           1,
           18,
           0,
           18,
           41,
           30,
           37,
           8,
           42,
           34,
           38,
           32,
           25,
           5,
           8,
           3,
           0,
           36,
           29,
           8,
           12,
           28,
           24,
           21,
           15,
           19,
           14,
           45,
           32,
           8,
           36,
           47,
           30,
           35,
           48,
           4,
           4,
           28,
           18,
           8,
           10,
           32,
           27,
           39,
           1,
           8,
           19,
           6,
           17,
           15,
           44,
           54,
           39,
           40,
           46,
           8,
           29,
           22,
           36,
           29,
           8,
           8,
           8,
           54,
           32,
           6,
           2,
           29,
           28,
           36,
           41,
           3,
           7,
           36,
           43,
           8,
           8,
           18,
           24,
           18,
           8,
           3,
           8,
           44,
           2,
           20,
           8,
           33,
           42,
           50,
           20,
           32,
           23,
           0,
           15,
           33,
           1,
           16,
           8,
           29,
           0,
           1,
           13,
           33,
           8,
           49,
           54,
           14,
           18,
           7,
           8,
           8,
           19,
           52,
           32,
           49,
           14,
           18,
           18,
           30,
           2,
           12,
           25,
           29,
           22,
           32,
           28,
           42,
           47,
           32,
           8,
           31,
           30,
           20,
           54,
           18,
           11,
           47,
           49
          ],
          "coloraxis": "coloraxis",
          "symbol": "circle"
         },
         "mode": "markers",
         "name": "",
         "orientation": "v",
         "showlegend": false,
         "type": "scatter",
         "x": [
          0.6113955638874462,
          0.3850356086578314,
          0.19619689561374354,
          0.12031075033443353,
          0.6422310364873208,
          0.4482838795913111,
          0.3297209723888627,
          0.2796126803179803,
          0.26077259465082425,
          0.6172631554359441,
          0.1411230510923054,
          0.8733088240885354,
          0.14852976424269926,
          0.7391858054258557,
          0.2038327681445315,
          0.2585666936955568,
          0.8965114967306419,
          0.939616480871422,
          0.007207024964805596,
          0,
          0.18655838492661853,
          0.16358501701462547,
          0.3258195200618834,
          0.9558736282290338,
          0.19372239537087574,
          0.6980104706941758,
          0.5652828307647706,
          0.19691556029935536,
          0.0935831249849049,
          0.7512340504136208,
          0.18121493224071528,
          0.12193032314206283,
          0.10438681312535777,
          0.1112083465634254,
          0.6078760067083185,
          0.778743455466136,
          0.9588462972965285,
          0.6564030463062317,
          0.8653825113581597,
          0.14137996554743815,
          0.1259521490068518,
          0.12489489064350057,
          0.8640637054099229,
          0.9801161667341569,
          0.8032043095510225,
          0.7729709652179553,
          0.6841037428720155,
          0.7928326045733968,
          1,
          0.8738612821085329,
          0.1959758690387298,
          0.9508790182775648,
          0.07048014677575455,
          0.2681375171347052,
          0.16093231547861517,
          0.633419131571088,
          0.8856202568261383,
          0.11975109183400415,
          0.7273168894120632,
          0.674335658645617,
          0.8385338645040015,
          0.7559593207135198,
          0.25758911263433865,
          0.28860140248141647,
          0.8677201786436474,
          0.6050647469918754,
          0.3740081890877318,
          0.3259538645572182,
          0.11613278989626771,
          0.2528830070790654,
          0.6282242281481922,
          0.1287970197200623,
          0.27225054536247495,
          0.31587422619969063,
          0.23672446585466264,
          0.7888534273448066,
          0.6146875625093512,
          0.9785748297402297,
          0.8803291812155402,
          0.6301932397846777,
          0.8232240351225256,
          0.9508556078641656,
          0.17340049669583055,
          0.2762229310488095,
          0.26843863452783956,
          0.1755576344973297,
          0.5426678784008343,
          0.857816079571812,
          0.35157481315580646,
          0.37932633627442514,
          0.8195206319760856,
          0.8986672646352305,
          0.5841440723861994,
          0.6528663781424798,
          0.11166637737597386,
          0.7422113359849066,
          0.3771725507995071,
          0.83569418905388,
          0.7381238601289127,
          0.725958891616352,
          0.3336411495489264,
          0.719078129730216,
          0.09781684908712485,
          0.5303951213953831,
          0.6301932397846777,
          0.5600734145087127,
          0.6273780653565337,
          0.7854443025038875,
          0.6930241862416638,
          0.9823169739767084,
          0.2848879086263697,
          0.22060640397844378,
          0.7835480002935014,
          0.33605175851748914,
          0.12705298336588314,
          0.18797397118621073,
          0.1792227873979325,
          0.28878593570988437,
          0.6335207423966384,
          0.22891659930995098,
          0.09259776921087368,
          0.8032043095510225,
          0.27075211878689354,
          0.7171805919051386,
          0.20996156985809417,
          0.6490899763546331,
          0.5938202927874277,
          0.9547900166435036,
          0.2428532675682253,
          0.5347734399718096,
          0.0555131678594296,
          0.1082941883666268,
          0.7412716294126185,
          0.875781476900677,
          0.8123454360307942,
          0.131887348253053,
          0.6282242281481922,
          0.13072785622802552,
          0.6716747913678076,
          0.8640637054099229,
          0.6299067465548996,
          0.1239214520620066,
          0.6965189216135742,
          0.22397581203193975,
          0.6895514788622955,
          0.5744265229495983,
          0.2762229310488095,
          0.8298914262224236,
          0.1378605671060071,
          0.6301932397846777,
          0.6965189216135742,
          0.7018751241545863,
          0.12679041955574305,
          0.1096927369362277,
          0.3129604243388549,
          0.1034312440882812,
          0.6941071354873068,
          0.44064800706052315,
          0.6965189216135742,
          0.11065815519020937,
          0.7332976356218808,
          0.673221192005849,
          0.8898655961315398,
          0.8005917102074073,
          0.8391509897622901,
          0.1259999225808603,
          0.13082991975690114,
          0.7265311242573802,
          0.5965984546910627,
          0.28236560808891414,
          0.7467129061251471,
          0.8709082090765095,
          0.7273168894120632,
          0.8123454360307942,
          0.9066836815223939,
          0.6539729923766896,
          0.8742295567893632,
          0.2645202064202951,
          0.23277689713031957,
          0.8581417583528617,
          0.5342081177413514,
          0.5320668266941283,
          0.2266140930810069,
          0.7500441969511912,
          0.3641533022291308,
          0.19767074367331522,
          0.7366727993323701,
          0.9259658965902043,
          0.6505130901848216,
          0.3032464358574086,
          0.653111551490011,
          0.6028626122623415,
          0.7057309961303945,
          0.6555859085624773
         ],
         "xaxis": "x",
         "y": [
          0.26588211985946286,
          0.29746559359115593,
          0.3633446026361105,
          0.37435784677700185,
          0.25757503779879426,
          0.2022600247193984,
          0.4762938091655765,
          0.34133589615096827,
          0.3025688598495118,
          0.22732623169028682,
          0.5450533033913892,
          0.302491350330617,
          0.34895040223579343,
          0.7207236259116149,
          0.35163617436633526,
          0.3685827426739031,
          0.9606783494844107,
          1,
          0.3996441326549306,
          0.4035830211447793,
          0.3619632864695885,
          0.3248506183897928,
          0.4108620703475788,
          0.3184572962276026,
          0.3498223385189599,
          0.3858514804548788,
          0.19119911794797242,
          0.5277181185871853,
          0.3793371371559122,
          0.19764465973380727,
          0.3590223655208013,
          0.41128709928452545,
          0.4463688783600063,
          0.37239597021258386,
          0.2897168868357686,
          0.3992829602463546,
          0.31254341020672,
          0.25296753948738154,
          0.3305162182974121,
          0.39786644479749683,
          0.36672444964511797,
          0.3824524232766002,
          0.45642437410387987,
          0.46337059685923665,
          0.4456207937374332,
          0.5021139984398989,
          0.4358927223763447,
          0.5889388020761349,
          0.018597166186034287,
          0.10631761207578352,
          0.42728742067315545,
          0,
          0.3610085366240644,
          0.32137872565471587,
          0.36192986498764546,
          0.27580927784102344,
          0.1171500527453704,
          0.3120400516443747,
          0.20728590519292583,
          0.17700215121144047,
          0.7726032166532155,
          0.2164854235732342,
          0.33140873816940764,
          0.3038805175859393,
          0.33791805529016583,
          0.4302427310819196,
          0.37337046398388024,
          0.5575678780283604,
          0.34010199379879935,
          0.32302730015712033,
          0.7573669397592484,
          0.36901677951421535,
          0.4888153625146159,
          0.40337140394599946,
          0.3519712028621829,
          0.14333159690778638,
          0.26742451867338346,
          0.11877234452665018,
          0.9025075007419923,
          0.17072827090563128,
          0.7105035447574176,
          0.4943924445792555,
          0.3300185941839581,
          0.45669125376860814,
          0.32382219240815374,
          0.4592440151712395,
          0.2835025352685463,
          0.8025787798030055,
          0.501712257016394,
          0.3239312777255336,
          0.15427825950434812,
          0.0736986158204018,
          0.3142582317524844,
          0.22457679815707374,
          0.41689984310693784,
          0.7442422831532924,
          0.2751595951774444,
          0.10283301595273331,
          0.3466555215026288,
          0.39465613209080075,
          0.3571251287938887,
          0.6225560344189295,
          0.37809831162725627,
          0.11361695760867148,
          0.17072827090563128,
          0.259605798949413,
          0.724001043967208,
          0.2974135535017337,
          0.4884051580703428,
          0.5826497579448903,
          0.32888937481848013,
          0.34942885683034736,
          0.18518471097368827,
          0.5180516813621447,
          0.3732374365842155,
          0.3632608455121486,
          0.3771687652810244,
          0.3894214454740753,
          0.7145347947645714,
          0.44668058326021914,
          0.37837880959552445,
          0.4456207937374332,
          0.36974882891766303,
          0.2625753900260388,
          0.5000951288176225,
          0.22028525002796476,
          0.7165158261128654,
          0.44759223170102774,
          0.5004301573134702,
          0.12437322740487057,
          0.39655331222403384,
          0.38573459376049585,
          0.14614466473054877,
          0.1906292674555518,
          0.1274629485028944,
          0.36893968487264023,
          0.7573669397592484,
          0.38934835501309,
          0.22955068294783107,
          0.45642437410387987,
          0.49840907828140246,
          0.36343650509408437,
          0.025408486471987547,
          0.3570928803518286,
          0.20833306979789912,
          0.5073727847402675,
          0.45669125376860814,
          0.5122728488075119,
          0.26358163535445084,
          0.17072827090563128,
          0.025408486471987547,
          0.38720142304866867,
          0.24832497484193708,
          0.38720327821628236,
          0.32661690313904157,
          0.34997463948298735,
          0.2385915630228779,
          0.21396845298917366,
          0.025408486471987547,
          0.3973690659657197,
          0.42183955664362294,
          0.7125537634162775,
          0.4407014395163169,
          0.19697300943540183,
          0.5390830842951625,
          0.3660794106026423,
          0.3648880946625156,
          0.6809321974140412,
          0.26157830692826506,
          0.4472250045659716,
          0.36445527236580333,
          0.48135705068689616,
          0.20728590519292583,
          0.1274629485028944,
          0.872163669553146,
          0.4434458913340038,
          0.03662751410739047,
          0.5669929824604164,
          0.3507419084082461,
          0.11277745720770227,
          0.3178293256274897,
          0.3161802202401595,
          0.35015736701480754,
          0.20942605009018084,
          0.3084001231390736,
          0.36960974186433554,
          0.592918675482992,
          0.902139232702936,
          0.5176766051825233,
          0.6017024116200693,
          0.21616668993044905,
          0.23446691728226662,
          0.20414534928097372,
          0.4386613341564385
         ],
         "yaxis": "y"
        }
       ],
       "layout": {
        "coloraxis": {
         "colorbar": {
          "title": {
           "text": "color"
          }
         },
         "colorscale": [
          [
           0,
           "rgb(12,51,131)"
          ],
          [
           0.25,
           "rgb(10,136,186)"
          ],
          [
           0.5,
           "rgb(242,211,56)"
          ],
          [
           0.75,
           "rgb(242,143,56)"
          ],
          [
           1,
           "rgb(217,30,30)"
          ]
         ]
        },
        "height": 800,
        "legend": {
         "tracegroupgap": 0
        },
        "margin": {
         "t": 60
        },
        "template": {
         "data": {
          "bar": [
           {
            "error_x": {
             "color": "#2a3f5f"
            },
            "error_y": {
             "color": "#2a3f5f"
            },
            "marker": {
             "line": {
              "color": "#E5ECF6",
              "width": 0.5
             },
             "pattern": {
              "fillmode": "overlay",
              "size": 10,
              "solidity": 0.2
             }
            },
            "type": "bar"
           }
          ],
          "barpolar": [
           {
            "marker": {
             "line": {
              "color": "#E5ECF6",
              "width": 0.5
             },
             "pattern": {
              "fillmode": "overlay",
              "size": 10,
              "solidity": 0.2
             }
            },
            "type": "barpolar"
           }
          ],
          "carpet": [
           {
            "aaxis": {
             "endlinecolor": "#2a3f5f",
             "gridcolor": "white",
             "linecolor": "white",
             "minorgridcolor": "white",
             "startlinecolor": "#2a3f5f"
            },
            "baxis": {
             "endlinecolor": "#2a3f5f",
             "gridcolor": "white",
             "linecolor": "white",
             "minorgridcolor": "white",
             "startlinecolor": "#2a3f5f"
            },
            "type": "carpet"
           }
          ],
          "choropleth": [
           {
            "colorbar": {
             "outlinewidth": 0,
             "ticks": ""
            },
            "type": "choropleth"
           }
          ],
          "contour": [
           {
            "colorbar": {
             "outlinewidth": 0,
             "ticks": ""
            },
            "colorscale": [
             [
              0,
              "#0d0887"
             ],
             [
              0.1111111111111111,
              "#46039f"
             ],
             [
              0.2222222222222222,
              "#7201a8"
             ],
             [
              0.3333333333333333,
              "#9c179e"
             ],
             [
              0.4444444444444444,
              "#bd3786"
             ],
             [
              0.5555555555555556,
              "#d8576b"
             ],
             [
              0.6666666666666666,
              "#ed7953"
             ],
             [
              0.7777777777777778,
              "#fb9f3a"
             ],
             [
              0.8888888888888888,
              "#fdca26"
             ],
             [
              1,
              "#f0f921"
             ]
            ],
            "type": "contour"
           }
          ],
          "contourcarpet": [
           {
            "colorbar": {
             "outlinewidth": 0,
             "ticks": ""
            },
            "type": "contourcarpet"
           }
          ],
          "heatmap": [
           {
            "colorbar": {
             "outlinewidth": 0,
             "ticks": ""
            },
            "colorscale": [
             [
              0,
              "#0d0887"
             ],
             [
              0.1111111111111111,
              "#46039f"
             ],
             [
              0.2222222222222222,
              "#7201a8"
             ],
             [
              0.3333333333333333,
              "#9c179e"
             ],
             [
              0.4444444444444444,
              "#bd3786"
             ],
             [
              0.5555555555555556,
              "#d8576b"
             ],
             [
              0.6666666666666666,
              "#ed7953"
             ],
             [
              0.7777777777777778,
              "#fb9f3a"
             ],
             [
              0.8888888888888888,
              "#fdca26"
             ],
             [
              1,
              "#f0f921"
             ]
            ],
            "type": "heatmap"
           }
          ],
          "heatmapgl": [
           {
            "colorbar": {
             "outlinewidth": 0,
             "ticks": ""
            },
            "colorscale": [
             [
              0,
              "#0d0887"
             ],
             [
              0.1111111111111111,
              "#46039f"
             ],
             [
              0.2222222222222222,
              "#7201a8"
             ],
             [
              0.3333333333333333,
              "#9c179e"
             ],
             [
              0.4444444444444444,
              "#bd3786"
             ],
             [
              0.5555555555555556,
              "#d8576b"
             ],
             [
              0.6666666666666666,
              "#ed7953"
             ],
             [
              0.7777777777777778,
              "#fb9f3a"
             ],
             [
              0.8888888888888888,
              "#fdca26"
             ],
             [
              1,
              "#f0f921"
             ]
            ],
            "type": "heatmapgl"
           }
          ],
          "histogram": [
           {
            "marker": {
             "pattern": {
              "fillmode": "overlay",
              "size": 10,
              "solidity": 0.2
             }
            },
            "type": "histogram"
           }
          ],
          "histogram2d": [
           {
            "colorbar": {
             "outlinewidth": 0,
             "ticks": ""
            },
            "colorscale": [
             [
              0,
              "#0d0887"
             ],
             [
              0.1111111111111111,
              "#46039f"
             ],
             [
              0.2222222222222222,
              "#7201a8"
             ],
             [
              0.3333333333333333,
              "#9c179e"
             ],
             [
              0.4444444444444444,
              "#bd3786"
             ],
             [
              0.5555555555555556,
              "#d8576b"
             ],
             [
              0.6666666666666666,
              "#ed7953"
             ],
             [
              0.7777777777777778,
              "#fb9f3a"
             ],
             [
              0.8888888888888888,
              "#fdca26"
             ],
             [
              1,
              "#f0f921"
             ]
            ],
            "type": "histogram2d"
           }
          ],
          "histogram2dcontour": [
           {
            "colorbar": {
             "outlinewidth": 0,
             "ticks": ""
            },
            "colorscale": [
             [
              0,
              "#0d0887"
             ],
             [
              0.1111111111111111,
              "#46039f"
             ],
             [
              0.2222222222222222,
              "#7201a8"
             ],
             [
              0.3333333333333333,
              "#9c179e"
             ],
             [
              0.4444444444444444,
              "#bd3786"
             ],
             [
              0.5555555555555556,
              "#d8576b"
             ],
             [
              0.6666666666666666,
              "#ed7953"
             ],
             [
              0.7777777777777778,
              "#fb9f3a"
             ],
             [
              0.8888888888888888,
              "#fdca26"
             ],
             [
              1,
              "#f0f921"
             ]
            ],
            "type": "histogram2dcontour"
           }
          ],
          "mesh3d": [
           {
            "colorbar": {
             "outlinewidth": 0,
             "ticks": ""
            },
            "type": "mesh3d"
           }
          ],
          "parcoords": [
           {
            "line": {
             "colorbar": {
              "outlinewidth": 0,
              "ticks": ""
             }
            },
            "type": "parcoords"
           }
          ],
          "pie": [
           {
            "automargin": true,
            "type": "pie"
           }
          ],
          "scatter": [
           {
            "fillpattern": {
             "fillmode": "overlay",
             "size": 10,
             "solidity": 0.2
            },
            "type": "scatter"
           }
          ],
          "scatter3d": [
           {
            "line": {
             "colorbar": {
              "outlinewidth": 0,
              "ticks": ""
             }
            },
            "marker": {
             "colorbar": {
              "outlinewidth": 0,
              "ticks": ""
             }
            },
            "type": "scatter3d"
           }
          ],
          "scattercarpet": [
           {
            "marker": {
             "colorbar": {
              "outlinewidth": 0,
              "ticks": ""
             }
            },
            "type": "scattercarpet"
           }
          ],
          "scattergeo": [
           {
            "marker": {
             "colorbar": {
              "outlinewidth": 0,
              "ticks": ""
             }
            },
            "type": "scattergeo"
           }
          ],
          "scattergl": [
           {
            "marker": {
             "colorbar": {
              "outlinewidth": 0,
              "ticks": ""
             }
            },
            "type": "scattergl"
           }
          ],
          "scattermapbox": [
           {
            "marker": {
             "colorbar": {
              "outlinewidth": 0,
              "ticks": ""
             }
            },
            "type": "scattermapbox"
           }
          ],
          "scatterpolar": [
           {
            "marker": {
             "colorbar": {
              "outlinewidth": 0,
              "ticks": ""
             }
            },
            "type": "scatterpolar"
           }
          ],
          "scatterpolargl": [
           {
            "marker": {
             "colorbar": {
              "outlinewidth": 0,
              "ticks": ""
             }
            },
            "type": "scatterpolargl"
           }
          ],
          "scatterternary": [
           {
            "marker": {
             "colorbar": {
              "outlinewidth": 0,
              "ticks": ""
             }
            },
            "type": "scatterternary"
           }
          ],
          "surface": [
           {
            "colorbar": {
             "outlinewidth": 0,
             "ticks": ""
            },
            "colorscale": [
             [
              0,
              "#0d0887"
             ],
             [
              0.1111111111111111,
              "#46039f"
             ],
             [
              0.2222222222222222,
              "#7201a8"
             ],
             [
              0.3333333333333333,
              "#9c179e"
             ],
             [
              0.4444444444444444,
              "#bd3786"
             ],
             [
              0.5555555555555556,
              "#d8576b"
             ],
             [
              0.6666666666666666,
              "#ed7953"
             ],
             [
              0.7777777777777778,
              "#fb9f3a"
             ],
             [
              0.8888888888888888,
              "#fdca26"
             ],
             [
              1,
              "#f0f921"
             ]
            ],
            "type": "surface"
           }
          ],
          "table": [
           {
            "cells": {
             "fill": {
              "color": "#EBF0F8"
             },
             "line": {
              "color": "white"
             }
            },
            "header": {
             "fill": {
              "color": "#C8D4E3"
             },
             "line": {
              "color": "white"
             }
            },
            "type": "table"
           }
          ]
         },
         "layout": {
          "annotationdefaults": {
           "arrowcolor": "#2a3f5f",
           "arrowhead": 0,
           "arrowwidth": 1
          },
          "autotypenumbers": "strict",
          "coloraxis": {
           "colorbar": {
            "outlinewidth": 0,
            "ticks": ""
           }
          },
          "colorscale": {
           "diverging": [
            [
             0,
             "#8e0152"
            ],
            [
             0.1,
             "#c51b7d"
            ],
            [
             0.2,
             "#de77ae"
            ],
            [
             0.3,
             "#f1b6da"
            ],
            [
             0.4,
             "#fde0ef"
            ],
            [
             0.5,
             "#f7f7f7"
            ],
            [
             0.6,
             "#e6f5d0"
            ],
            [
             0.7,
             "#b8e186"
            ],
            [
             0.8,
             "#7fbc41"
            ],
            [
             0.9,
             "#4d9221"
            ],
            [
             1,
             "#276419"
            ]
           ],
           "sequential": [
            [
             0,
             "#0d0887"
            ],
            [
             0.1111111111111111,
             "#46039f"
            ],
            [
             0.2222222222222222,
             "#7201a8"
            ],
            [
             0.3333333333333333,
             "#9c179e"
            ],
            [
             0.4444444444444444,
             "#bd3786"
            ],
            [
             0.5555555555555556,
             "#d8576b"
            ],
            [
             0.6666666666666666,
             "#ed7953"
            ],
            [
             0.7777777777777778,
             "#fb9f3a"
            ],
            [
             0.8888888888888888,
             "#fdca26"
            ],
            [
             1,
             "#f0f921"
            ]
           ],
           "sequentialminus": [
            [
             0,
             "#0d0887"
            ],
            [
             0.1111111111111111,
             "#46039f"
            ],
            [
             0.2222222222222222,
             "#7201a8"
            ],
            [
             0.3333333333333333,
             "#9c179e"
            ],
            [
             0.4444444444444444,
             "#bd3786"
            ],
            [
             0.5555555555555556,
             "#d8576b"
            ],
            [
             0.6666666666666666,
             "#ed7953"
            ],
            [
             0.7777777777777778,
             "#fb9f3a"
            ],
            [
             0.8888888888888888,
             "#fdca26"
            ],
            [
             1,
             "#f0f921"
            ]
           ]
          },
          "colorway": [
           "#636efa",
           "#EF553B",
           "#00cc96",
           "#ab63fa",
           "#FFA15A",
           "#19d3f3",
           "#FF6692",
           "#B6E880",
           "#FF97FF",
           "#FECB52"
          ],
          "font": {
           "color": "#2a3f5f"
          },
          "geo": {
           "bgcolor": "white",
           "lakecolor": "white",
           "landcolor": "#E5ECF6",
           "showlakes": true,
           "showland": true,
           "subunitcolor": "white"
          },
          "hoverlabel": {
           "align": "left"
          },
          "hovermode": "closest",
          "mapbox": {
           "style": "light"
          },
          "paper_bgcolor": "white",
          "plot_bgcolor": "#E5ECF6",
          "polar": {
           "angularaxis": {
            "gridcolor": "white",
            "linecolor": "white",
            "ticks": ""
           },
           "bgcolor": "#E5ECF6",
           "radialaxis": {
            "gridcolor": "white",
            "linecolor": "white",
            "ticks": ""
           }
          },
          "scene": {
           "xaxis": {
            "backgroundcolor": "#E5ECF6",
            "gridcolor": "white",
            "gridwidth": 2,
            "linecolor": "white",
            "showbackground": true,
            "ticks": "",
            "zerolinecolor": "white"
           },
           "yaxis": {
            "backgroundcolor": "#E5ECF6",
            "gridcolor": "white",
            "gridwidth": 2,
            "linecolor": "white",
            "showbackground": true,
            "ticks": "",
            "zerolinecolor": "white"
           },
           "zaxis": {
            "backgroundcolor": "#E5ECF6",
            "gridcolor": "white",
            "gridwidth": 2,
            "linecolor": "white",
            "showbackground": true,
            "ticks": "",
            "zerolinecolor": "white"
           }
          },
          "shapedefaults": {
           "line": {
            "color": "#2a3f5f"
           }
          },
          "ternary": {
           "aaxis": {
            "gridcolor": "white",
            "linecolor": "white",
            "ticks": ""
           },
           "baxis": {
            "gridcolor": "white",
            "linecolor": "white",
            "ticks": ""
           },
           "bgcolor": "#E5ECF6",
           "caxis": {
            "gridcolor": "white",
            "linecolor": "white",
            "ticks": ""
           }
          },
          "title": {
           "x": 0.05
          },
          "xaxis": {
           "automargin": true,
           "gridcolor": "white",
           "linecolor": "white",
           "ticks": "",
           "title": {
            "standoff": 15
           },
           "zerolinecolor": "white",
           "zerolinewidth": 2
          },
          "yaxis": {
           "automargin": true,
           "gridcolor": "white",
           "linecolor": "white",
           "ticks": "",
           "title": {
            "standoff": 15
           },
           "zerolinecolor": "white",
           "zerolinewidth": 2
          }
         }
        },
        "title": {
         "text": "Items Visualization in 3D"
        },
        "width": 800,
        "xaxis": {
         "anchor": "y",
         "domain": [
          0,
          1
         ],
         "title": {
          "text": "PC1"
         }
        },
        "yaxis": {
         "anchor": "x",
         "domain": [
          0,
          1
         ],
         "title": {
          "text": "PC2"
         }
        }
       }
      }
     },
     "metadata": {},
     "output_type": "display_data"
    }
   ],
   "source": [
    "fig = px.scatter(X_pca2, x='PC1', y='PC2', color=y, color_continuous_scale=\"Portland\", hover_name=names,width=800, height=800)\n",
    "fig.update_layout(title=\"Items Visualization in 3D\")\n",
    "fig.show()"
   ]
  },
  {
   "cell_type": "markdown",
   "metadata": {},
   "source": [
    "### 3D PCA"
   ]
  },
  {
   "cell_type": "code",
   "execution_count": 13,
   "metadata": {},
   "outputs": [],
   "source": [
    "pca3 = PCA(n_components=3)\n",
    "X_pca3 = pca3.fit_transform(X)\n",
    "\n",
    "X_pca3 = pd.DataFrame(X_pca3, columns=[\"PC1\", \"PC2\", \"PC3\"])\n",
    "\n",
    "# Normalize the data\n",
    "X_pca3[\"PC1\"] = normalize_data(X_pca3[\"PC1\"])\n",
    "X_pca3[\"PC2\"] = normalize_data(X_pca3[\"PC2\"])\n",
    "X_pca3[\"PC3\"] = normalize_data(X_pca3[\"PC3\"])\n"
   ]
  },
  {
   "cell_type": "code",
   "execution_count": 14,
   "metadata": {},
   "outputs": [
    {
     "data": {
      "application/vnd.plotly.v1+json": {
       "config": {
        "plotlyServerURL": "https://plot.ly"
       },
       "data": [
        {
         "hovertemplate": "<b>%{hovertext}</b><br><br>PC1=%{x}<br>PC2=%{y}<br>PC3=%{z}<br>color=%{marker.color}<extra></extra>",
         "hovertext": [
          "Abyssal Mask",
          "Aegis of the Legion",
          "Aether Wisp",
          "Amplifying Tome",
          "Archangel's Staff",
          "Ardent Censer",
          "B. F. Sword",
          "Bami's Cinder",
          "Bandleglass Mirror",
          "Banshee's Veil",
          "Berserker's Greaves",
          "Black Cleaver",
          "Black Mist Scythe",
          "Blade of the Ruined King",
          "Blasting Wand",
          "Blighting Jewel",
          "Bloodthirster",
          "Bloodward",
          "Boots",
          "Boots of Swiftness",
          "Bramble Vest",
          "Bulwark of the Mountain",
          "Caulfield's Warhammer",
          "Ceaseless Hunger",
          "Chain Vest",
          "Chempunk Chainsword",
          "Chemtech Putrifier",
          "Cloak of Agility",
          "Cloth Armor",
          "Cosmic Drive",
          "Crystalline Bracer",
          "Cull",
          "Dagger",
          "Dark Seal",
          "Dead Man's Plate",
          "Death's Dance",
          "Deicide",
          "Demonic Embrace",
          "Divine Sunderer",
          "Doran's Blade",
          "Doran's Ring",
          "Doran's Shield",
          "Draktharr's Shadowcarver",
          "Dreamshatter",
          "Duskblade of Draktharr",
          "Eclipse",
          "Edge of Night",
          "Essence Reaver",
          "Eternal Winter",
          "Everfrost",
          "Executioner's Calling",
          "Eye of Luden",
          "Faerie Charm",
          "Fiendish Codex",
          "Forbidden Idol",
          "Force of Nature",
          "Forgefire Crest",
          "Frostfang",
          "Frostfire Gauntlet",
          "Frozen Heart",
          "Galeforce",
          "Gargoyle Stoneplate",
          "Giant's Belt",
          "Glacial Buckler",
          "Goredrinker",
          "Guardian Angel",
          "Guardian's Blade",
          "Guardian's Hammer",
          "Guardian's Horn",
          "Guardian's Orb",
          "Guinsoo's Rageblade",
          "Harrowing Crescent",
          "Hearthbound Axe",
          "Hexdrinker",
          "Hextech Alternator",
          "Hextech Rocketbelt",
          "Horizon Focus",
          "Icathia's Curse",
          "Immortal Shieldbow",
          "Imperial Mandate",
          "Infinity Edge",
          "Infinity Force",
          "Ionian Boots of Lucidity",
          "Ironspike Whip",
          "Kindlegem",
          "Kircheis Shard",
          "Knight's Vow",
          "Kraken Slayer",
          "Last Whisper",
          "Leeching Leer",
          "Liandry's Anguish",
          "Liandry's Lament",
          "Lich Bane",
          "Locket of the Iron Solari",
          "Long Sword",
          "Lord Dominik's Regards",
          "Lost Chapter",
          "Luden's Tempest",
          "Manamune",
          "Maw of Malmortius",
          "Mejai's Soulstealer",
          "Mercurial Scimitar",
          "Mercury's Treads",
          "Mikael's Blessing",
          "Moonstone Renewer",
          "Morellonomicon",
          "Mortal Reminder",
          "Muramana",
          "Nashor's Tooth",
          "Navori Quickblades",
          "Needlessly Large Rod",
          "Negatron Cloak",
          "Night Harvester",
          "Noonquiver",
          "Null-Magic Mantle",
          "Oblivion Orb",
          "Pauldrons of Whiterock",
          "Phage",
          "Phantom Dancer",
          "Pickaxe",
          "Plated Steelcaps",
          "Prowler's Claw",
          "Quicksilver Sash",
          "Rabadon's Deathcap",
          "Rageknife",
          "Randuin's Omen",
          "Rapid Firecannon",
          "Ravenous Hydra",
          "Recurve Bow",
          "Redemption",
          "Rejuvenation Bead",
          "Relic Shield",
          "Reliquary of the Golden Dawn",
          "Riftmaker",
          "Rimeforged Grasp",
          "Ruby Crystal",
          "Runaan's Hurricane",
          "Runesteel Spaulders",
          "Rylai's Crystal Scepter",
          "Sandshrike's Claw",
          "Sanguine Blade",
          "Sapphire Crystal",
          "Seat of Command",
          "Seeker's Armguard",
          "Seraph's Embrace",
          "Serpent's Fang",
          "Serrated Dirk",
          "Serylda's Grudge",
          "Shard of True Ice",
          "Shurelya's Battlesong",
          "Shurelya's Requiem",
          "Silvermere Dawn",
          "Sorcerer's Shoes",
          "Spectral Sickle",
          "Spectre's Cowl",
          "Spellthief's Edge",
          "Spirit Visage",
          "Staff of Flowing Water",
          "Starcaster",
          "Steel Shoulderguards",
          "Sterak's Gage",
          "Stormrazor",
          "Stridebreaker",
          "Sunfire Aegis",
          "Syzygy",
          "Targon's Buckler",
          "Tear of the Goddess",
          "The Collector",
          "Thornmail",
          "Tiamat",
          "Titanic Hydra",
          "Trinity Force",
          "Turbo Chemtank",
          "Turbocharged Hexperiment",
          "Typhoon",
          "Umbral Glaive",
          "Upgraded Aeropack",
          "Vampiric Scepter",
          "Verdant Barrier",
          "Vespertide",
          "Vigilant Wardstone",
          "Void Staff",
          "Warden's Mail",
          "Warmog's Armor",
          "Watchful Wardstone",
          "Winged Moonplate",
          "Wit's End",
          "Wyrmfallen Sacrifice",
          "Youmuu's Ghostblade",
          "Zeal",
          "Zeke's Convergence",
          "Zhonya's Hourglass",
          "Anathema's Chains",
          "Hullbreaker"
         ],
         "legendgroup": "",
         "marker": {
          "color": [
           1,
           29,
           8,
           8,
           50,
           13,
           32,
           8,
           0,
           51,
           53,
           34,
           0,
           21,
           8,
           8,
           9,
           21,
           8,
           6,
           42,
           8,
           32,
           26,
           42,
           34,
           15,
           8,
           42,
           22,
           8,
           8,
           36,
           8,
           52,
           38,
           34,
           44,
           34,
           8,
           8,
           8,
           2,
           14,
           2,
           7,
           49,
           46,
           4,
           4,
           8,
           27,
           0,
           8,
           0,
           1,
           18,
           0,
           18,
           41,
           30,
           37,
           8,
           42,
           34,
           38,
           32,
           25,
           5,
           8,
           3,
           0,
           36,
           29,
           8,
           12,
           28,
           24,
           21,
           15,
           19,
           14,
           45,
           32,
           8,
           36,
           47,
           30,
           35,
           48,
           4,
           4,
           28,
           18,
           8,
           10,
           32,
           27,
           39,
           1,
           8,
           19,
           6,
           17,
           15,
           44,
           54,
           39,
           40,
           46,
           8,
           29,
           22,
           36,
           29,
           8,
           8,
           8,
           54,
           32,
           6,
           2,
           29,
           28,
           36,
           41,
           3,
           7,
           36,
           43,
           8,
           8,
           18,
           24,
           18,
           8,
           3,
           8,
           44,
           2,
           20,
           8,
           33,
           42,
           50,
           20,
           32,
           23,
           0,
           15,
           33,
           1,
           16,
           8,
           29,
           0,
           1,
           13,
           33,
           8,
           49,
           54,
           14,
           18,
           7,
           8,
           8,
           19,
           52,
           32,
           49,
           14,
           18,
           18,
           30,
           2,
           12,
           25,
           29,
           22,
           32,
           28,
           42,
           47,
           32,
           8,
           31,
           30,
           20,
           54,
           18,
           11,
           47,
           49
          ],
          "coloraxis": "coloraxis",
          "size": 3,
          "symbol": "circle"
         },
         "mode": "markers",
         "name": "",
         "scene": "scene",
         "showlegend": false,
         "type": "scatter3d",
         "x": [
          0.6113955638874462,
          0.3850356086578314,
          0.19619689561374354,
          0.12031075033443353,
          0.6422310364873208,
          0.4482838795913111,
          0.3297209723888627,
          0.2796126803179803,
          0.26077259465082425,
          0.6172631554359441,
          0.1411230510923054,
          0.8733088240885354,
          0.14852976424269926,
          0.7391858054258557,
          0.2038327681445315,
          0.2585666936955568,
          0.8965114967306419,
          0.939616480871422,
          0.007207024964805596,
          0,
          0.18655838492661853,
          0.16358501701462547,
          0.3258195200618834,
          0.9558736282290338,
          0.19372239537087574,
          0.6980104706941758,
          0.5652828307647706,
          0.19691556029935536,
          0.0935831249849049,
          0.7512340504136208,
          0.18121493224071528,
          0.12193032314206283,
          0.10438681312535777,
          0.1112083465634254,
          0.6078760067083185,
          0.778743455466136,
          0.9588462972965285,
          0.6564030463062317,
          0.8653825113581597,
          0.14137996554743815,
          0.1259521490068518,
          0.12489489064350057,
          0.8640637054099229,
          0.9801161667341569,
          0.8032043095510225,
          0.7729709652179553,
          0.6841037428720155,
          0.7928326045733968,
          1,
          0.8738612821085329,
          0.1959758690387298,
          0.9508790182775648,
          0.07048014677575455,
          0.2681375171347052,
          0.16093231547861517,
          0.633419131571088,
          0.8856202568261383,
          0.11975109183400415,
          0.7273168894120632,
          0.674335658645617,
          0.8385338645040015,
          0.7559593207135198,
          0.25758911263433865,
          0.28860140248141647,
          0.8677201786436474,
          0.6050647469918754,
          0.3740081890877318,
          0.3259538645572182,
          0.11613278989626771,
          0.2528830070790654,
          0.6282242281481922,
          0.1287970197200623,
          0.27225054536247495,
          0.31587422619969063,
          0.23672446585466264,
          0.7888534273448066,
          0.6146875625093512,
          0.9785748297402297,
          0.8803291812155402,
          0.6301932397846777,
          0.8232240351225256,
          0.9508556078641656,
          0.17340049669583055,
          0.2762229310488095,
          0.26843863452783956,
          0.1755576344973297,
          0.5426678784008343,
          0.857816079571812,
          0.35157481315580646,
          0.37932633627442514,
          0.8195206319760856,
          0.8986672646352305,
          0.5841440723861994,
          0.6528663781424798,
          0.11166637737597386,
          0.7422113359849066,
          0.3771725507995071,
          0.83569418905388,
          0.7381238601289127,
          0.725958891616352,
          0.3336411495489264,
          0.719078129730216,
          0.09781684908712485,
          0.5303951213953831,
          0.6301932397846777,
          0.5600734145087127,
          0.6273780653565337,
          0.7854443025038875,
          0.6930241862416638,
          0.9823169739767084,
          0.2848879086263697,
          0.22060640397844378,
          0.7835480002935014,
          0.33605175851748914,
          0.12705298336588314,
          0.18797397118621073,
          0.1792227873979325,
          0.28878593570988437,
          0.6335207423966384,
          0.22891659930995098,
          0.09259776921087368,
          0.8032043095510225,
          0.27075211878689354,
          0.7171805919051386,
          0.20996156985809417,
          0.6490899763546331,
          0.5938202927874277,
          0.9547900166435036,
          0.2428532675682253,
          0.5347734399718096,
          0.0555131678594296,
          0.1082941883666268,
          0.7412716294126185,
          0.875781476900677,
          0.8123454360307942,
          0.131887348253053,
          0.6282242281481922,
          0.13072785622802552,
          0.6716747913678076,
          0.8640637054099229,
          0.6299067465548996,
          0.1239214520620066,
          0.6965189216135742,
          0.22397581203193975,
          0.6895514788622955,
          0.5744265229495983,
          0.2762229310488095,
          0.8298914262224236,
          0.1378605671060071,
          0.6301932397846777,
          0.6965189216135742,
          0.7018751241545863,
          0.12679041955574305,
          0.1096927369362277,
          0.3129604243388549,
          0.1034312440882812,
          0.6941071354873068,
          0.44064800706052315,
          0.6965189216135742,
          0.11065815519020937,
          0.7332976356218808,
          0.673221192005849,
          0.8898655961315398,
          0.8005917102074073,
          0.8391509897622901,
          0.1259999225808603,
          0.13082991975690114,
          0.7265311242573802,
          0.5965984546910627,
          0.28236560808891414,
          0.7467129061251471,
          0.8709082090765095,
          0.7273168894120632,
          0.8123454360307942,
          0.9066836815223939,
          0.6539729923766896,
          0.8742295567893632,
          0.2645202064202951,
          0.23277689713031957,
          0.8581417583528617,
          0.5342081177413514,
          0.5320668266941283,
          0.2266140930810069,
          0.7500441969511912,
          0.3641533022291308,
          0.19767074367331522,
          0.7366727993323701,
          0.9259658965902043,
          0.6505130901848216,
          0.3032464358574086,
          0.653111551490011,
          0.6028626122623415,
          0.7057309961303945,
          0.6555859085624773
         ],
         "y": [
          0.26588211985946286,
          0.29746559359115593,
          0.3633446026361105,
          0.37435784677700185,
          0.25757503779879426,
          0.2022600247193984,
          0.4762938091655765,
          0.34133589615096827,
          0.3025688598495118,
          0.22732623169028682,
          0.5450533033913892,
          0.302491350330617,
          0.34895040223579343,
          0.7207236259116149,
          0.35163617436633526,
          0.3685827426739031,
          0.9606783494844107,
          1,
          0.3996441326549306,
          0.4035830211447793,
          0.3619632864695885,
          0.3248506183897928,
          0.4108620703475788,
          0.3184572962276026,
          0.3498223385189599,
          0.3858514804548788,
          0.19119911794797242,
          0.5277181185871853,
          0.3793371371559122,
          0.19764465973380727,
          0.3590223655208013,
          0.41128709928452545,
          0.4463688783600063,
          0.37239597021258386,
          0.2897168868357686,
          0.3992829602463546,
          0.31254341020672,
          0.25296753948738154,
          0.3305162182974121,
          0.39786644479749683,
          0.36672444964511797,
          0.3824524232766002,
          0.45642437410387987,
          0.46337059685923665,
          0.4456207937374332,
          0.5021139984398989,
          0.4358927223763447,
          0.5889388020761349,
          0.018597166186034287,
          0.10631761207578352,
          0.42728742067315545,
          0,
          0.3610085366240644,
          0.32137872565471587,
          0.36192986498764546,
          0.27580927784102344,
          0.1171500527453704,
          0.3120400516443747,
          0.20728590519292583,
          0.17700215121144047,
          0.7726032166532155,
          0.2164854235732342,
          0.33140873816940764,
          0.3038805175859393,
          0.33791805529016583,
          0.4302427310819196,
          0.37337046398388024,
          0.5575678780283604,
          0.34010199379879935,
          0.32302730015712033,
          0.7573669397592484,
          0.36901677951421535,
          0.4888153625146159,
          0.40337140394599946,
          0.3519712028621829,
          0.14333159690778638,
          0.26742451867338346,
          0.11877234452665018,
          0.9025075007419923,
          0.17072827090563128,
          0.7105035447574176,
          0.4943924445792555,
          0.3300185941839581,
          0.45669125376860814,
          0.32382219240815374,
          0.4592440151712395,
          0.2835025352685463,
          0.8025787798030055,
          0.501712257016394,
          0.3239312777255336,
          0.15427825950434812,
          0.0736986158204018,
          0.3142582317524844,
          0.22457679815707374,
          0.41689984310693784,
          0.7442422831532924,
          0.2751595951774444,
          0.10283301595273331,
          0.3466555215026288,
          0.39465613209080075,
          0.3571251287938887,
          0.6225560344189295,
          0.37809831162725627,
          0.11361695760867148,
          0.17072827090563128,
          0.259605798949413,
          0.724001043967208,
          0.2974135535017337,
          0.4884051580703428,
          0.5826497579448903,
          0.32888937481848013,
          0.34942885683034736,
          0.18518471097368827,
          0.5180516813621447,
          0.3732374365842155,
          0.3632608455121486,
          0.3771687652810244,
          0.3894214454740753,
          0.7145347947645714,
          0.44668058326021914,
          0.37837880959552445,
          0.4456207937374332,
          0.36974882891766303,
          0.2625753900260388,
          0.5000951288176225,
          0.22028525002796476,
          0.7165158261128654,
          0.44759223170102774,
          0.5004301573134702,
          0.12437322740487057,
          0.39655331222403384,
          0.38573459376049585,
          0.14614466473054877,
          0.1906292674555518,
          0.1274629485028944,
          0.36893968487264023,
          0.7573669397592484,
          0.38934835501309,
          0.22955068294783107,
          0.45642437410387987,
          0.49840907828140246,
          0.36343650509408437,
          0.025408486471987547,
          0.3570928803518286,
          0.20833306979789912,
          0.5073727847402675,
          0.45669125376860814,
          0.5122728488075119,
          0.26358163535445084,
          0.17072827090563128,
          0.025408486471987547,
          0.38720142304866867,
          0.24832497484193708,
          0.38720327821628236,
          0.32661690313904157,
          0.34997463948298735,
          0.2385915630228779,
          0.21396845298917366,
          0.025408486471987547,
          0.3973690659657197,
          0.42183955664362294,
          0.7125537634162775,
          0.4407014395163169,
          0.19697300943540183,
          0.5390830842951625,
          0.3660794106026423,
          0.3648880946625156,
          0.6809321974140412,
          0.26157830692826506,
          0.4472250045659716,
          0.36445527236580333,
          0.48135705068689616,
          0.20728590519292583,
          0.1274629485028944,
          0.872163669553146,
          0.4434458913340038,
          0.03662751410739047,
          0.5669929824604164,
          0.3507419084082461,
          0.11277745720770227,
          0.3178293256274897,
          0.3161802202401595,
          0.35015736701480754,
          0.20942605009018084,
          0.3084001231390736,
          0.36960974186433554,
          0.592918675482992,
          0.902139232702936,
          0.5176766051825233,
          0.6017024116200693,
          0.21616668993044905,
          0.23446691728226662,
          0.20414534928097372,
          0.4386613341564385
         ],
         "z": [
          0.12256254717664582,
          0.20790984681657565,
          0.463724761329563,
          0.446605301552241,
          0.6564312364541027,
          0.536460679989776,
          0.4059408673930213,
          0.35564143407271825,
          0.45642220811304834,
          0.37898576824050223,
          0.5188927967440896,
          0.30251352520277186,
          0.42486999825316185,
          0.4616824036482117,
          0.47983365482469836,
          0.46001668519549527,
          0.4965343903920105,
          0.49732630708425957,
          0.4534682873710461,
          0.5101026627896442,
          0.3215368521194936,
          0.389389082472105,
          0.4025062700645276,
          0.26053605236445576,
          0.2902903608691917,
          0.347125419379217,
          0.5246535499685784,
          0.43942580866418285,
          0.36718903925737234,
          0.4954511672218492,
          0.37125421023981786,
          0.41257726461648087,
          0.4250126575507732,
          0.4302951484639223,
          0.2194154025016265,
          0.2554000244702157,
          0.27892135980378585,
          0.4629694739347433,
          0.3165139264615414,
          0.39621599364038024,
          0.4243803612736572,
          0.3983265952833707,
          0.384071285422542,
          0.3364887741687685,
          0.3914811412601847,
          0.4314027461194837,
          0.3418029010559428,
          0.4273131498024832,
          0.7047516198570261,
          0.643185144334171,
          0.4113189477897924,
          1,
          0.429404807004245,
          0.46499600753681686,
          0.4307441117155766,
          0.13311047067837978,
          0,
          0.4475820400414229,
          0.16743854423532673,
          0.26050606116359126,
          0.45688321146502076,
          0.006674454942450627,
          0.3450935105709843,
          0.4116668398132377,
          0.30495509158719575,
          0.28460755160453605,
          0.36718669053923786,
          0.40715751080223067,
          0.24892942867187037,
          0.4498944539521003,
          0.49358523049472197,
          0.41505873554373407,
          0.4257418294047718,
          0.2847196488421385,
          0.480320674719728,
          0.6403318876999718,
          0.6058858199097824,
          0.5088421658289877,
          0.48649659845690674,
          0.46073361519408784,
          0.4359884903813695,
          0.3697765522604207,
          0.47276879999232674,
          0.40809209955172976,
          0.36812775592951114,
          0.42872516769531954,
          0.3110573730204632,
          0.46012820269563,
          0.42210473786932917,
          0.4139024994424027,
          0.6934896623676924,
          0.7907998187040617,
          0.541450245929241,
          0.16319637635083567,
          0.41154227905284463,
          0.46398113633949145,
          0.5526784244864421,
          0.8283828953053188,
          0.531888603329018,
          0.2158867989118147,
          0.4293203852273803,
          0.33450258733107374,
          0.39658845975719925,
          0.2386816256242602,
          0.46073361519408784,
          0.49798262490571304,
          0.4684896213829488,
          0.6262733198234158,
          0.6273636522418625,
          0.4179118758928939,
          0.5130254816050284,
          0.23480880344882998,
          0.4953777511556413,
          0.42227147121919434,
          0.3240685248695554,
          0.46360300635580554,
          0.3532139174012272,
          0.3718058632055197,
          0.4700522573573326,
          0.4088633281966904,
          0.4244509934411375,
          0.3914811412601847,
          0.30806725618652303,
          0.615401326342439,
          0.438096912157791,
          0.1127216113231731,
          0.4842134860322505,
          0.42139623493619005,
          0.43858393205282065,
          0.37914904356652734,
          0.41028027492906083,
          0.41461357252263914,
          0.052111586442864094,
          0.5040614254647935,
          0.03272030907200008,
          0.3841195752602273,
          0.49358523049472197,
          0.3891842913521965,
          0.49518726092501403,
          0.384071285422542,
          0.4074422844470355,
          0.47972547311658126,
          0.5164215823994039,
          0.4011113958802469,
          0.7508159529485006,
          0.4051491186301071,
          0.40809209955172976,
          0.411221671512131,
          0.4945820763411794,
          0.46073361519408784,
          0.5164215823994039,
          0.22321739220218884,
          0.8916236747546207,
          0.4187048722547188,
          0.27571208641615264,
          0.4406450060002847,
          0.1715416483335494,
          0.5203517864946405,
          0.5164215823994039,
          0.40576765015895,
          0.3271985655409161,
          0.45589102868241477,
          0.35357307667799415,
          0.13471823516332665,
          0.4323243839630795,
          0.4068761360795747,
          0.4772254304099387,
          0.4389718286719172,
          0.1619977421244396,
          0.40965473552611364,
          0.3128402823300133,
          0.3855417287427773,
          0.16743854423532673,
          0.03272030907200008,
          0.46529905912997954,
          0.39611081138586934,
          0.7550131051733514,
          0.4398567187023242,
          0.35762561657115766,
          0.5201301466706032,
          0.37838883099190235,
          0.5416581515349707,
          0.2907773807642213,
          0.2391011863644172,
          0.398744466927766,
          0.3850936150502866,
          0.2661259521390305,
          0.4685440503605888,
          0.40480403239329743,
          0.45695242555492144,
          0.3424867698532167,
          0.3768531465036163,
          0.2748143370628536,
          0.3380567522055496
         ]
        }
       ],
       "layout": {
        "coloraxis": {
         "colorbar": {
          "title": {
           "text": "color"
          }
         },
         "colorscale": [
          [
           0,
           "rgb(12,51,131)"
          ],
          [
           0.25,
           "rgb(10,136,186)"
          ],
          [
           0.5,
           "rgb(242,211,56)"
          ],
          [
           0.75,
           "rgb(242,143,56)"
          ],
          [
           1,
           "rgb(217,30,30)"
          ]
         ]
        },
        "legend": {
         "tracegroupgap": 0
        },
        "margin": {
         "t": 60
        },
        "scene": {
         "domain": {
          "x": [
           0,
           1
          ],
          "y": [
           0,
           1
          ]
         },
         "xaxis": {
          "title": {
           "text": "PC1"
          }
         },
         "yaxis": {
          "title": {
           "text": "PC2"
          }
         },
         "zaxis": {
          "title": {
           "text": "PC3"
          }
         }
        },
        "template": {
         "data": {
          "bar": [
           {
            "error_x": {
             "color": "#2a3f5f"
            },
            "error_y": {
             "color": "#2a3f5f"
            },
            "marker": {
             "line": {
              "color": "#E5ECF6",
              "width": 0.5
             },
             "pattern": {
              "fillmode": "overlay",
              "size": 10,
              "solidity": 0.2
             }
            },
            "type": "bar"
           }
          ],
          "barpolar": [
           {
            "marker": {
             "line": {
              "color": "#E5ECF6",
              "width": 0.5
             },
             "pattern": {
              "fillmode": "overlay",
              "size": 10,
              "solidity": 0.2
             }
            },
            "type": "barpolar"
           }
          ],
          "carpet": [
           {
            "aaxis": {
             "endlinecolor": "#2a3f5f",
             "gridcolor": "white",
             "linecolor": "white",
             "minorgridcolor": "white",
             "startlinecolor": "#2a3f5f"
            },
            "baxis": {
             "endlinecolor": "#2a3f5f",
             "gridcolor": "white",
             "linecolor": "white",
             "minorgridcolor": "white",
             "startlinecolor": "#2a3f5f"
            },
            "type": "carpet"
           }
          ],
          "choropleth": [
           {
            "colorbar": {
             "outlinewidth": 0,
             "ticks": ""
            },
            "type": "choropleth"
           }
          ],
          "contour": [
           {
            "colorbar": {
             "outlinewidth": 0,
             "ticks": ""
            },
            "colorscale": [
             [
              0,
              "#0d0887"
             ],
             [
              0.1111111111111111,
              "#46039f"
             ],
             [
              0.2222222222222222,
              "#7201a8"
             ],
             [
              0.3333333333333333,
              "#9c179e"
             ],
             [
              0.4444444444444444,
              "#bd3786"
             ],
             [
              0.5555555555555556,
              "#d8576b"
             ],
             [
              0.6666666666666666,
              "#ed7953"
             ],
             [
              0.7777777777777778,
              "#fb9f3a"
             ],
             [
              0.8888888888888888,
              "#fdca26"
             ],
             [
              1,
              "#f0f921"
             ]
            ],
            "type": "contour"
           }
          ],
          "contourcarpet": [
           {
            "colorbar": {
             "outlinewidth": 0,
             "ticks": ""
            },
            "type": "contourcarpet"
           }
          ],
          "heatmap": [
           {
            "colorbar": {
             "outlinewidth": 0,
             "ticks": ""
            },
            "colorscale": [
             [
              0,
              "#0d0887"
             ],
             [
              0.1111111111111111,
              "#46039f"
             ],
             [
              0.2222222222222222,
              "#7201a8"
             ],
             [
              0.3333333333333333,
              "#9c179e"
             ],
             [
              0.4444444444444444,
              "#bd3786"
             ],
             [
              0.5555555555555556,
              "#d8576b"
             ],
             [
              0.6666666666666666,
              "#ed7953"
             ],
             [
              0.7777777777777778,
              "#fb9f3a"
             ],
             [
              0.8888888888888888,
              "#fdca26"
             ],
             [
              1,
              "#f0f921"
             ]
            ],
            "type": "heatmap"
           }
          ],
          "heatmapgl": [
           {
            "colorbar": {
             "outlinewidth": 0,
             "ticks": ""
            },
            "colorscale": [
             [
              0,
              "#0d0887"
             ],
             [
              0.1111111111111111,
              "#46039f"
             ],
             [
              0.2222222222222222,
              "#7201a8"
             ],
             [
              0.3333333333333333,
              "#9c179e"
             ],
             [
              0.4444444444444444,
              "#bd3786"
             ],
             [
              0.5555555555555556,
              "#d8576b"
             ],
             [
              0.6666666666666666,
              "#ed7953"
             ],
             [
              0.7777777777777778,
              "#fb9f3a"
             ],
             [
              0.8888888888888888,
              "#fdca26"
             ],
             [
              1,
              "#f0f921"
             ]
            ],
            "type": "heatmapgl"
           }
          ],
          "histogram": [
           {
            "marker": {
             "pattern": {
              "fillmode": "overlay",
              "size": 10,
              "solidity": 0.2
             }
            },
            "type": "histogram"
           }
          ],
          "histogram2d": [
           {
            "colorbar": {
             "outlinewidth": 0,
             "ticks": ""
            },
            "colorscale": [
             [
              0,
              "#0d0887"
             ],
             [
              0.1111111111111111,
              "#46039f"
             ],
             [
              0.2222222222222222,
              "#7201a8"
             ],
             [
              0.3333333333333333,
              "#9c179e"
             ],
             [
              0.4444444444444444,
              "#bd3786"
             ],
             [
              0.5555555555555556,
              "#d8576b"
             ],
             [
              0.6666666666666666,
              "#ed7953"
             ],
             [
              0.7777777777777778,
              "#fb9f3a"
             ],
             [
              0.8888888888888888,
              "#fdca26"
             ],
             [
              1,
              "#f0f921"
             ]
            ],
            "type": "histogram2d"
           }
          ],
          "histogram2dcontour": [
           {
            "colorbar": {
             "outlinewidth": 0,
             "ticks": ""
            },
            "colorscale": [
             [
              0,
              "#0d0887"
             ],
             [
              0.1111111111111111,
              "#46039f"
             ],
             [
              0.2222222222222222,
              "#7201a8"
             ],
             [
              0.3333333333333333,
              "#9c179e"
             ],
             [
              0.4444444444444444,
              "#bd3786"
             ],
             [
              0.5555555555555556,
              "#d8576b"
             ],
             [
              0.6666666666666666,
              "#ed7953"
             ],
             [
              0.7777777777777778,
              "#fb9f3a"
             ],
             [
              0.8888888888888888,
              "#fdca26"
             ],
             [
              1,
              "#f0f921"
             ]
            ],
            "type": "histogram2dcontour"
           }
          ],
          "mesh3d": [
           {
            "colorbar": {
             "outlinewidth": 0,
             "ticks": ""
            },
            "type": "mesh3d"
           }
          ],
          "parcoords": [
           {
            "line": {
             "colorbar": {
              "outlinewidth": 0,
              "ticks": ""
             }
            },
            "type": "parcoords"
           }
          ],
          "pie": [
           {
            "automargin": true,
            "type": "pie"
           }
          ],
          "scatter": [
           {
            "fillpattern": {
             "fillmode": "overlay",
             "size": 10,
             "solidity": 0.2
            },
            "type": "scatter"
           }
          ],
          "scatter3d": [
           {
            "line": {
             "colorbar": {
              "outlinewidth": 0,
              "ticks": ""
             }
            },
            "marker": {
             "colorbar": {
              "outlinewidth": 0,
              "ticks": ""
             }
            },
            "type": "scatter3d"
           }
          ],
          "scattercarpet": [
           {
            "marker": {
             "colorbar": {
              "outlinewidth": 0,
              "ticks": ""
             }
            },
            "type": "scattercarpet"
           }
          ],
          "scattergeo": [
           {
            "marker": {
             "colorbar": {
              "outlinewidth": 0,
              "ticks": ""
             }
            },
            "type": "scattergeo"
           }
          ],
          "scattergl": [
           {
            "marker": {
             "colorbar": {
              "outlinewidth": 0,
              "ticks": ""
             }
            },
            "type": "scattergl"
           }
          ],
          "scattermapbox": [
           {
            "marker": {
             "colorbar": {
              "outlinewidth": 0,
              "ticks": ""
             }
            },
            "type": "scattermapbox"
           }
          ],
          "scatterpolar": [
           {
            "marker": {
             "colorbar": {
              "outlinewidth": 0,
              "ticks": ""
             }
            },
            "type": "scatterpolar"
           }
          ],
          "scatterpolargl": [
           {
            "marker": {
             "colorbar": {
              "outlinewidth": 0,
              "ticks": ""
             }
            },
            "type": "scatterpolargl"
           }
          ],
          "scatterternary": [
           {
            "marker": {
             "colorbar": {
              "outlinewidth": 0,
              "ticks": ""
             }
            },
            "type": "scatterternary"
           }
          ],
          "surface": [
           {
            "colorbar": {
             "outlinewidth": 0,
             "ticks": ""
            },
            "colorscale": [
             [
              0,
              "#0d0887"
             ],
             [
              0.1111111111111111,
              "#46039f"
             ],
             [
              0.2222222222222222,
              "#7201a8"
             ],
             [
              0.3333333333333333,
              "#9c179e"
             ],
             [
              0.4444444444444444,
              "#bd3786"
             ],
             [
              0.5555555555555556,
              "#d8576b"
             ],
             [
              0.6666666666666666,
              "#ed7953"
             ],
             [
              0.7777777777777778,
              "#fb9f3a"
             ],
             [
              0.8888888888888888,
              "#fdca26"
             ],
             [
              1,
              "#f0f921"
             ]
            ],
            "type": "surface"
           }
          ],
          "table": [
           {
            "cells": {
             "fill": {
              "color": "#EBF0F8"
             },
             "line": {
              "color": "white"
             }
            },
            "header": {
             "fill": {
              "color": "#C8D4E3"
             },
             "line": {
              "color": "white"
             }
            },
            "type": "table"
           }
          ]
         },
         "layout": {
          "annotationdefaults": {
           "arrowcolor": "#2a3f5f",
           "arrowhead": 0,
           "arrowwidth": 1
          },
          "autotypenumbers": "strict",
          "coloraxis": {
           "colorbar": {
            "outlinewidth": 0,
            "ticks": ""
           }
          },
          "colorscale": {
           "diverging": [
            [
             0,
             "#8e0152"
            ],
            [
             0.1,
             "#c51b7d"
            ],
            [
             0.2,
             "#de77ae"
            ],
            [
             0.3,
             "#f1b6da"
            ],
            [
             0.4,
             "#fde0ef"
            ],
            [
             0.5,
             "#f7f7f7"
            ],
            [
             0.6,
             "#e6f5d0"
            ],
            [
             0.7,
             "#b8e186"
            ],
            [
             0.8,
             "#7fbc41"
            ],
            [
             0.9,
             "#4d9221"
            ],
            [
             1,
             "#276419"
            ]
           ],
           "sequential": [
            [
             0,
             "#0d0887"
            ],
            [
             0.1111111111111111,
             "#46039f"
            ],
            [
             0.2222222222222222,
             "#7201a8"
            ],
            [
             0.3333333333333333,
             "#9c179e"
            ],
            [
             0.4444444444444444,
             "#bd3786"
            ],
            [
             0.5555555555555556,
             "#d8576b"
            ],
            [
             0.6666666666666666,
             "#ed7953"
            ],
            [
             0.7777777777777778,
             "#fb9f3a"
            ],
            [
             0.8888888888888888,
             "#fdca26"
            ],
            [
             1,
             "#f0f921"
            ]
           ],
           "sequentialminus": [
            [
             0,
             "#0d0887"
            ],
            [
             0.1111111111111111,
             "#46039f"
            ],
            [
             0.2222222222222222,
             "#7201a8"
            ],
            [
             0.3333333333333333,
             "#9c179e"
            ],
            [
             0.4444444444444444,
             "#bd3786"
            ],
            [
             0.5555555555555556,
             "#d8576b"
            ],
            [
             0.6666666666666666,
             "#ed7953"
            ],
            [
             0.7777777777777778,
             "#fb9f3a"
            ],
            [
             0.8888888888888888,
             "#fdca26"
            ],
            [
             1,
             "#f0f921"
            ]
           ]
          },
          "colorway": [
           "#636efa",
           "#EF553B",
           "#00cc96",
           "#ab63fa",
           "#FFA15A",
           "#19d3f3",
           "#FF6692",
           "#B6E880",
           "#FF97FF",
           "#FECB52"
          ],
          "font": {
           "color": "#2a3f5f"
          },
          "geo": {
           "bgcolor": "white",
           "lakecolor": "white",
           "landcolor": "#E5ECF6",
           "showlakes": true,
           "showland": true,
           "subunitcolor": "white"
          },
          "hoverlabel": {
           "align": "left"
          },
          "hovermode": "closest",
          "mapbox": {
           "style": "light"
          },
          "paper_bgcolor": "white",
          "plot_bgcolor": "#E5ECF6",
          "polar": {
           "angularaxis": {
            "gridcolor": "white",
            "linecolor": "white",
            "ticks": ""
           },
           "bgcolor": "#E5ECF6",
           "radialaxis": {
            "gridcolor": "white",
            "linecolor": "white",
            "ticks": ""
           }
          },
          "scene": {
           "xaxis": {
            "backgroundcolor": "#E5ECF6",
            "gridcolor": "white",
            "gridwidth": 2,
            "linecolor": "white",
            "showbackground": true,
            "ticks": "",
            "zerolinecolor": "white"
           },
           "yaxis": {
            "backgroundcolor": "#E5ECF6",
            "gridcolor": "white",
            "gridwidth": 2,
            "linecolor": "white",
            "showbackground": true,
            "ticks": "",
            "zerolinecolor": "white"
           },
           "zaxis": {
            "backgroundcolor": "#E5ECF6",
            "gridcolor": "white",
            "gridwidth": 2,
            "linecolor": "white",
            "showbackground": true,
            "ticks": "",
            "zerolinecolor": "white"
           }
          },
          "shapedefaults": {
           "line": {
            "color": "#2a3f5f"
           }
          },
          "ternary": {
           "aaxis": {
            "gridcolor": "white",
            "linecolor": "white",
            "ticks": ""
           },
           "baxis": {
            "gridcolor": "white",
            "linecolor": "white",
            "ticks": ""
           },
           "bgcolor": "#E5ECF6",
           "caxis": {
            "gridcolor": "white",
            "linecolor": "white",
            "ticks": ""
           }
          },
          "title": {
           "x": 0.05
          },
          "xaxis": {
           "automargin": true,
           "gridcolor": "white",
           "linecolor": "white",
           "ticks": "",
           "title": {
            "standoff": 15
           },
           "zerolinecolor": "white",
           "zerolinewidth": 2
          },
          "yaxis": {
           "automargin": true,
           "gridcolor": "white",
           "linecolor": "white",
           "ticks": "",
           "title": {
            "standoff": 15
           },
           "zerolinecolor": "white",
           "zerolinewidth": 2
          }
         }
        },
        "title": {
         "text": "Items Visualization in 3D"
        }
       }
      }
     },
     "metadata": {},
     "output_type": "display_data"
    }
   ],
   "source": [
    "# Plot the data in 3D\n",
    "fig = px.scatter_3d(X_pca3, x='PC1', y='PC2', z='PC3', color=y, color_continuous_scale=\"Portland\", hover_name=names)\n",
    "fig.update_layout(title=\"Items Visualization in 3D\")\n",
    "fig.update_traces(marker=dict(size=3))\n",
    "fig.show()\n"
   ]
  },
  {
   "cell_type": "markdown",
   "metadata": {},
   "source": [
    "### Which items are similar ?"
   ]
  },
  {
   "cell_type": "code",
   "execution_count": 15,
   "metadata": {},
   "outputs": [
    {
     "name": "stdout",
     "output_type": "stream",
     "text": [
      "########## Cluster 1 ##########\n",
      "Bandleglass Mirror\n",
      "Black Mist Scythe\n",
      "Faerie Charm\n",
      "Forbidden Idol\n",
      "Frostfang\n",
      "Harrowing Crescent\n",
      "Shard of True Ice\n",
      "Spellthief's Edge\n",
      "\n",
      "\n",
      "########## Cluster 2 ##########\n",
      "Abyssal Mask\n",
      "Force of Nature\n",
      "Maw of Malmortius\n",
      "Silvermere Dawn\n",
      "Spirit Visage\n",
      "\n",
      "\n",
      "########## Cluster 3 ##########\n",
      "Draktharr's Shadowcarver\n",
      "Duskblade of Draktharr\n",
      "Prowler's Claw\n",
      "Sandshrike's Claw\n",
      "Umbral Glaive\n",
      "\n",
      "\n",
      "########## Cluster 4 ##########\n",
      "Guinsoo's Rageblade\n",
      "Rapid Firecannon\n",
      "Runaan's Hurricane\n",
      "\n",
      "\n",
      "########## Cluster 5 ##########\n",
      "Eternal Winter\n",
      "Everfrost\n",
      "Liandry's Anguish\n",
      "Liandry's Lament\n",
      "\n",
      "\n",
      "########## Cluster 6 ##########\n",
      "Guardian's Horn\n",
      "\n",
      "\n",
      "########## Cluster 7 ##########\n",
      "Boots of Swiftness\n",
      "Mercury's Treads\n",
      "Plated Steelcaps\n",
      "\n",
      "\n",
      "########## Cluster 8 ##########\n",
      "Eclipse\n",
      "Ravenous Hydra\n",
      "Syzygy\n",
      "\n",
      "\n",
      "########## Cluster 9 ##########\n",
      "Aether Wisp\n",
      "Amplifying Tome\n",
      "Bami's Cinder\n",
      "Blasting Wand\n",
      "Blighting Jewel\n",
      "Boots\n",
      "Bulwark of the Mountain\n",
      "Cloak of Agility\n",
      "Crystalline Bracer\n",
      "Cull\n",
      "Dark Seal\n",
      "Doran's Blade\n",
      "Doran's Ring\n",
      "Doran's Shield\n",
      "Executioner's Calling\n",
      "Fiendish Codex\n",
      "Giant's Belt\n",
      "Guardian's Orb\n",
      "Hextech Alternator\n",
      "Kindlegem\n",
      "Long Sword\n",
      "Mejai's Soulstealer\n",
      "Needlessly Large Rod\n",
      "Oblivion Orb\n",
      "Pauldrons of Whiterock\n",
      "Phage\n",
      "Rejuvenation Bead\n",
      "Relic Shield\n",
      "Ruby Crystal\n",
      "Runesteel Spaulders\n",
      "Sapphire Crystal\n",
      "Spectral Sickle\n",
      "Steel Shoulderguards\n",
      "Targon's Buckler\n",
      "Tear of the Goddess\n",
      "Winged Moonplate\n",
      "\n",
      "\n",
      "########## Cluster 10 ##########\n",
      "Bloodthirster\n",
      "\n",
      "\n",
      "########## Cluster 11 ##########\n",
      "Lord Dominik's Regards\n",
      "\n",
      "\n",
      "########## Cluster 12 ##########\n",
      "Zhonya's Hourglass\n",
      "\n",
      "\n",
      "########## Cluster 13 ##########\n",
      "Hextech Rocketbelt\n",
      "Upgraded Aeropack\n",
      "\n",
      "\n",
      "########## Cluster 14 ##########\n",
      "Ardent Censer\n",
      "Staff of Flowing Water\n",
      "\n",
      "\n",
      "########## Cluster 15 ##########\n",
      "Dreamshatter\n",
      "Infinity Force\n",
      "Stridebreaker\n",
      "Trinity Force\n",
      "\n",
      "\n",
      "########## Cluster 16 ##########\n",
      "Chemtech Putrifier\n",
      "Imperial Mandate\n",
      "Moonstone Renewer\n",
      "Shurelya's Battlesong\n",
      "\n",
      "\n",
      "########## Cluster 17 ##########\n",
      "Sorcerer's Shoes\n",
      "\n",
      "\n",
      "########## Cluster 18 ##########\n",
      "Mikael's Blessing\n",
      "\n",
      "\n",
      "########## Cluster 19 ##########\n",
      "Forgefire Crest\n",
      "Frostfire Gauntlet\n",
      "Locket of the Iron Solari\n",
      "Reliquary of the Golden Dawn\n",
      "Rimeforged Grasp\n",
      "Sunfire Aegis\n",
      "Turbo Chemtank\n",
      "Turbocharged Hexperiment\n",
      "Zeke's Convergence\n",
      "\n",
      "\n",
      "########## Cluster 20 ##########\n",
      "Infinity Edge\n",
      "Mercurial Scimitar\n",
      "The Collector\n",
      "\n",
      "\n",
      "########## Cluster 21 ##########\n",
      "Sanguine Blade\n",
      "Serpent's Fang\n",
      "Youmuu's Ghostblade\n",
      "\n",
      "\n",
      "########## Cluster 22 ##########\n",
      "Blade of the Ruined King\n",
      "Bloodward\n",
      "Immortal Shieldbow\n",
      "\n",
      "\n",
      "########## Cluster 23 ##########\n",
      "Cosmic Drive\n",
      "Night Harvester\n",
      "Vespertide\n",
      "\n",
      "\n",
      "########## Cluster 24 ##########\n",
      "Serylda's Grudge\n",
      "\n",
      "\n",
      "########## Cluster 25 ##########\n",
      "Icathia's Curse\n",
      "Riftmaker\n",
      "\n",
      "\n",
      "########## Cluster 26 ##########\n",
      "Guardian's Hammer\n",
      "Vampiric Scepter\n",
      "\n",
      "\n",
      "########## Cluster 27 ##########\n",
      "Ceaseless Hunger\n",
      "\n",
      "\n",
      "########## Cluster 28 ##########\n",
      "Eye of Luden\n",
      "Luden's Tempest\n",
      "\n",
      "\n",
      "########## Cluster 29 ##########\n",
      "Horizon Focus\n",
      "Lich Bane\n",
      "Rabadon's Deathcap\n",
      "Void Staff\n",
      "\n",
      "\n",
      "########## Cluster 30 ##########\n",
      "Aegis of the Legion\n",
      "Hexdrinker\n",
      "Negatron Cloak\n",
      "Null-Magic Mantle\n",
      "Quicksilver Sash\n",
      "Spectre's Cowl\n",
      "Verdant Barrier\n",
      "\n",
      "\n",
      "########## Cluster 31 ##########\n",
      "Galeforce\n",
      "Kraken Slayer\n",
      "Typhoon\n",
      "Wyrmfallen Sacrifice\n",
      "\n",
      "\n",
      "########## Cluster 32 ##########\n",
      "Wit's End\n",
      "\n",
      "\n",
      "########## Cluster 33 ##########\n",
      "B. F. Sword\n",
      "Caulfield's Warhammer\n",
      "Guardian's Blade\n",
      "Ironspike Whip\n",
      "Lost Chapter\n",
      "Pickaxe\n",
      "Serrated Dirk\n",
      "Tiamat\n",
      "Vigilant Wardstone\n",
      "Watchful Wardstone\n",
      "\n",
      "\n",
      "########## Cluster 34 ##########\n",
      "Seat of Command\n",
      "Shurelya's Requiem\n",
      "Starcaster\n",
      "\n",
      "\n",
      "########## Cluster 35 ##########\n",
      "Black Cleaver\n",
      "Chempunk Chainsword\n",
      "Deicide\n",
      "Divine Sunderer\n",
      "Goredrinker\n",
      "\n",
      "\n",
      "########## Cluster 36 ##########\n",
      "Last Whisper\n",
      "\n",
      "\n",
      "########## Cluster 37 ##########\n",
      "Dagger\n",
      "Hearthbound Axe\n",
      "Kircheis Shard\n",
      "Noonquiver\n",
      "Rageknife\n",
      "Recurve Bow\n",
      "\n",
      "\n",
      "########## Cluster 38 ##########\n",
      "Gargoyle Stoneplate\n",
      "\n",
      "\n",
      "########## Cluster 39 ##########\n",
      "Death's Dance\n",
      "Guardian Angel\n",
      "\n",
      "\n",
      "########## Cluster 40 ##########\n",
      "Manamune\n",
      "Muramana\n",
      "\n",
      "\n",
      "########## Cluster 41 ##########\n",
      "Nashor's Tooth\n",
      "\n",
      "\n",
      "########## Cluster 42 ##########\n",
      "Frozen Heart\n",
      "Randuin's Omen\n",
      "\n",
      "\n",
      "########## Cluster 43 ##########\n",
      "Bramble Vest\n",
      "Chain Vest\n",
      "Cloth Armor\n",
      "Glacial Buckler\n",
      "Seeker's Armguard\n",
      "Warden's Mail\n",
      "\n",
      "\n",
      "########## Cluster 44 ##########\n",
      "Redemption\n",
      "\n",
      "\n",
      "########## Cluster 45 ##########\n",
      "Demonic Embrace\n",
      "Morellonomicon\n",
      "Rylai's Crystal Scepter\n",
      "\n",
      "\n",
      "########## Cluster 46 ##########\n",
      "Ionian Boots of Lucidity\n",
      "\n",
      "\n",
      "########## Cluster 47 ##########\n",
      "Essence Reaver\n",
      "Navori Quickblades\n",
      "\n",
      "\n",
      "########## Cluster 48 ##########\n",
      "Knight's Vow\n",
      "Warmog's Armor\n",
      "Anathema's Chains\n",
      "\n",
      "\n",
      "########## Cluster 49 ##########\n",
      "Leeching Leer\n",
      "\n",
      "\n",
      "########## Cluster 50 ##########\n",
      "Edge of Night\n",
      "Sterak's Gage\n",
      "Titanic Hydra\n",
      "Hullbreaker\n",
      "\n",
      "\n",
      "########## Cluster 51 ##########\n",
      "Archangel's Staff\n",
      "Seraph's Embrace\n",
      "\n",
      "\n",
      "########## Cluster 52 ##########\n",
      "Banshee's Veil\n",
      "\n",
      "\n",
      "########## Cluster 53 ##########\n",
      "Dead Man's Plate\n",
      "Thornmail\n",
      "\n",
      "\n",
      "########## Cluster 54 ##########\n",
      "Berserker's Greaves\n",
      "\n",
      "\n",
      "########## Cluster 55 ##########\n",
      "Mortal Reminder\n",
      "Phantom Dancer\n",
      "Stormrazor\n",
      "Zeal\n",
      "\n",
      "\n"
     ]
    }
   ],
   "source": [
    "df_clusters = pd.DataFrame({\"Item\": names, \"Cluster\": y})\n",
    "\n",
    "for i in range(n_clusters):\n",
    "    print(\"#\"*10 + \" Cluster\", i + 1, \"#\"*10)\n",
    "    for item in df_clusters[df_clusters[\"Cluster\"] == i][\"Item\"]:\n",
    "        print(item)\n",
    "    print(\"\\n\")"
   ]
  }
 ],
 "metadata": {
  "kernelspec": {
   "display_name": "Python 3",
   "language": "python",
   "name": "python3"
  },
  "language_info": {
   "codemirror_mode": {
    "name": "ipython",
    "version": 3
   },
   "file_extension": ".py",
   "mimetype": "text/x-python",
   "name": "python",
   "nbconvert_exporter": "python",
   "pygments_lexer": "ipython3",
   "version": "3.11.2"
  }
 },
 "nbformat": 4,
 "nbformat_minor": 2
}
